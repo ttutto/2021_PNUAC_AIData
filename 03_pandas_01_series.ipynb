{
  "nbformat": 4,
  "nbformat_minor": 0,
  "metadata": {
    "colab": {
      "name": "03_pandas_01_series.ipynb",
      "provenance": [],
      "collapsed_sections": [
        "4KcXf93NvRYF",
        "d0E16AJisWtp",
        "HfWit-RAxT3K",
        "kwW885PFyuRN",
        "NZG5FYmfzuSu",
        "cmdEnUaa06Ss",
        "JLUVMpZG3aMB",
        "Qamj0jPw6-Fl",
        "QTVb55OJ7HQx",
        "0L8-sxGe7m1d",
        "y5yftJED790Q",
        "bFXP2GytA5X_",
        "5otXQBjgCfxm"
      ],
      "include_colab_link": true
    },
    "interpreter": {
      "hash": "b3ba2566441a7c06988d0923437866b63cedc61552a5af99d1f4fb67d367b25f"
    },
    "kernelspec": {
      "display_name": "Python 3.8.5 64-bit ('base': conda)",
      "name": "python3"
    },
    "language_info": {
      "name": "python",
      "version": ""
    }
  },
  "cells": [
    {
      "cell_type": "markdown",
      "metadata": {
        "id": "view-in-github",
        "colab_type": "text"
      },
      "source": [
        "<a href=\"https://colab.research.google.com/github/ttutto/2021_PNUAC_AIData/blob/main/03_pandas_01_series.ipynb\" target=\"_parent\"><img src=\"https://colab.research.google.com/assets/colab-badge.svg\" alt=\"Open In Colab\"/></a>"
      ]
    },
    {
      "cell_type": "markdown",
      "metadata": {
        "id": "oXiH4jCRsYLt"
      },
      "source": [
        "# **pandas**\n",
        "\n",
        "\n",
        "---\n",
        "\n",
        "\n",
        "## **파이썬에서 사용하는 데이터분석 라이브러리**\n",
        " + 행과 열로 이루어진 데이터 객체를 만들어 다룰 수 있게 되며 보다 안정적으로 대용량의 데이터들을 처리하는데 매우 편리한 도구\n",
        " + NumPy를 기반으로 구축되었으며 과학 컴퓨팅 환경 내에서 다른 많은 타사 라이브러리와 잘 통합되도록 설계\n",
        " + 많은 기능을 가진 데이터 구조\n",
        "   - 다양한 방식으로 색인된 데이터를 다룰 수 있는 기능\n",
        "   - 시계열 데이터와 비시계열 데이터를 함께 다룰 수 있는 통합 자료 구조\n",
        "   - 누락된 데이터를 유연하게 처리할 수 있는 기능\n",
        "   - SQL 같은 일반 데이터베이스처럼 데이터를 합치고 관계연산을 수행하는 기능\n",
        "\n",
        "### **pandas 자료 구조**\n",
        "* **Series**\n",
        " + 1차원 자료구조\n",
        " + index로 value를 구분하는 1차원 자료구조\n",
        "\n",
        "* **DataFrame**\n",
        " + 2차원 자료구조\n",
        " + DataFrame는 행과 열이 있는 테이블 데이터\n",
        "\n",
        "\n",
        "\n",
        "---\n",
        "\n"
      ]
    },
    {
      "cell_type": "markdown",
      "metadata": {
        "id": "4KcXf93NvRYF"
      },
      "source": [
        "\n",
        "### **pandas 라이브러리 추가**"
      ]
    },
    {
      "cell_type": "code",
      "metadata": {
        "id": "qP-hrdOdqf41"
      },
      "source": [
        "import pandas as pd"
      ],
      "execution_count": 1,
      "outputs": []
    },
    {
      "cell_type": "markdown",
      "metadata": {
        "id": "LAnEv6KrS1yY"
      },
      "source": [
        "\n",
        "# **pandas Series**"
      ]
    },
    {
      "cell_type": "markdown",
      "metadata": {
        "id": "d0E16AJisWtp"
      },
      "source": [
        "### **리스트(list)를 시리즈(Series) 변경**"
      ]
    },
    {
      "cell_type": "markdown",
      "metadata": {
        "id": "qHTESQA2xuhU"
      },
      "source": [
        "#### pd.Series()"
      ]
    },
    {
      "cell_type": "code",
      "metadata": {
        "colab": {
          "base_uri": "https://localhost:8080/"
        },
        "id": "mlr1tureqzcQ",
        "outputId": "5c71bb48-159e-427d-b099-f61a7e8a7c8e"
      },
      "source": [
        "lt = [4.1, 5.5, 9.0, 15.0, 19.0 ,21.3]\n",
        "\n",
        "#리스트를 시리즈로 변경하기\n",
        "slt = pd.Series(lt)\n",
        "print(slt)\n",
        "print(type(slt))"
      ],
      "execution_count": 2,
      "outputs": [
        {
          "output_type": "stream",
          "name": "stdout",
          "text": [
            "0     4.1\n",
            "1     5.5\n",
            "2     9.0\n",
            "3    15.0\n",
            "4    19.0\n",
            "5    21.3\n",
            "dtype: float64\n",
            "<class 'pandas.core.series.Series'>\n"
          ]
        }
      ]
    },
    {
      "cell_type": "code",
      "metadata": {
        "colab": {
          "base_uri": "https://localhost:8080/"
        },
        "id": "0g85AdHaU8bb",
        "outputId": "fe015cd0-5b5d-47be-905b-8feaa94d9a0e"
      },
      "source": [
        "#시리즈의 3번째 요소가져오기\n",
        "slt[2]"
      ],
      "execution_count": 3,
      "outputs": [
        {
          "output_type": "execute_result",
          "data": {
            "text/plain": [
              "9.0"
            ]
          },
          "metadata": {},
          "execution_count": 3
        }
      ]
    },
    {
      "cell_type": "markdown",
      "metadata": {
        "id": "HZY2L540yCin"
      },
      "source": [
        "#### 리스트를 변경한 series index, values"
      ]
    },
    {
      "cell_type": "code",
      "metadata": {
        "colab": {
          "base_uri": "https://localhost:8080/"
        },
        "id": "bGHqaUmHr7Cr",
        "outputId": "8311fb19-fcbc-429c-91ab-d5c528611002"
      },
      "source": [
        "#시리즈 인덱스, 키, 값 출력\n",
        "print(slt.index)\n",
        "print(slt.keys())\n",
        "print(slt.values)"
      ],
      "execution_count": 4,
      "outputs": [
        {
          "output_type": "stream",
          "name": "stdout",
          "text": [
            "RangeIndex(start=0, stop=6, step=1)\n",
            "RangeIndex(start=0, stop=6, step=1)\n",
            "[ 4.1  5.5  9.  15.  19.  21.3]\n"
          ]
        }
      ]
    },
    {
      "cell_type": "markdown",
      "metadata": {
        "id": "HfWit-RAxT3K"
      },
      "source": [
        "### **딕션너리(dictionary)를 시리즈(Series)로 변경**"
      ]
    },
    {
      "cell_type": "markdown",
      "metadata": {
        "id": "kwW885PFyuRN"
      },
      "source": [
        "#### pd.Series()"
      ]
    },
    {
      "cell_type": "code",
      "metadata": {
        "colab": {
          "base_uri": "https://localhost:8080/"
        },
        "id": "Onsmw6rNq-IJ",
        "outputId": "261ffd98-8a86-45c7-d6ac-2b90a5acc1ab"
      },
      "source": [
        "#dataframe -> series\n",
        "dt = {'1월':4.1, '2월':5.5, '3월':9.0, '4월':15.0, '5월':19.0 ,'6월':21.3}\n",
        "sdt = pd.Series(dt)\n",
        "print(sdt)"
      ],
      "execution_count": 5,
      "outputs": [
        {
          "output_type": "stream",
          "name": "stdout",
          "text": [
            "1월     4.1\n",
            "2월     5.5\n",
            "3월     9.0\n",
            "4월    15.0\n",
            "5월    19.0\n",
            "6월    21.3\n",
            "dtype: float64\n"
          ]
        }
      ]
    },
    {
      "cell_type": "markdown",
      "metadata": {
        "id": "TnDYv6kRzETr"
      },
      "source": [
        "#### 딕션너리를 변경한 series index, **values**"
      ]
    },
    {
      "cell_type": "code",
      "metadata": {
        "colab": {
          "base_uri": "https://localhost:8080/"
        },
        "id": "uJ0Ys_lmrNMM",
        "outputId": "2f4d6627-a40a-43f7-bc43-d5e579d98f9d"
      },
      "source": [
        "print('index :', sdt.index)\n",
        "print('index :', sdt.keys())\n",
        "print('value :', sdt.values)"
      ],
      "execution_count": 6,
      "outputs": [
        {
          "output_type": "stream",
          "name": "stdout",
          "text": [
            "index : Index(['1월', '2월', '3월', '4월', '5월', '6월'], dtype='object')\n",
            "index : Index(['1월', '2월', '3월', '4월', '5월', '6월'], dtype='object')\n",
            "value : [ 4.1  5.5  9.  15.  19.  21.3]\n"
          ]
        }
      ]
    },
    {
      "cell_type": "code",
      "metadata": {
        "colab": {
          "base_uri": "https://localhost:8080/"
        },
        "id": "cf3sRuL5Vkkl",
        "outputId": "ae1203f4-3548-417a-8511-0bca0c99c619"
      },
      "source": [
        "#3월의 값 가져오기\n",
        "print(sdt['3월'])"
      ],
      "execution_count": 7,
      "outputs": [
        {
          "output_type": "stream",
          "name": "stdout",
          "text": [
            "9.0\n"
          ]
        }
      ]
    },
    {
      "cell_type": "markdown",
      "metadata": {
        "id": "NZG5FYmfzuSu"
      },
      "source": [
        "### **시리즈(Series) 인덱스(index) 변경하기**"
      ]
    },
    {
      "cell_type": "code",
      "metadata": {
        "id": "UhzAl0UL0ArX"
      },
      "source": [
        "ltk = ['1월', '2월', '3월', '4월', '5월', '6월']\n",
        "lt = [4.1, 5.5, 9.0, 15.0, 19.0 ,21.3]"
      ],
      "execution_count": 8,
      "outputs": []
    },
    {
      "cell_type": "markdown",
      "metadata": {
        "id": "6nOM0uocz86W"
      },
      "source": [
        "#### 생성시 변경하기"
      ]
    },
    {
      "cell_type": "code",
      "metadata": {
        "colab": {
          "base_uri": "https://localhost:8080/"
        },
        "id": "RA3ULdcCz6as",
        "outputId": "d4914dba-a559-4614-d3ec-f0dba40b7715"
      },
      "source": [
        "#시리즈 생성시 인덱스값 설정하기\n",
        "slt = pd.Series(lt, index=ltk)\n",
        "print(slt)"
      ],
      "execution_count": 9,
      "outputs": [
        {
          "output_type": "stream",
          "name": "stdout",
          "text": [
            "1월     4.1\n",
            "2월     5.5\n",
            "3월     9.0\n",
            "4월    15.0\n",
            "5월    19.0\n",
            "6월    21.3\n",
            "dtype: float64\n"
          ]
        }
      ]
    },
    {
      "cell_type": "markdown",
      "metadata": {
        "id": "_jbh2QZY0dYl"
      },
      "source": [
        "#### 생성후 변경하기\n"
      ]
    },
    {
      "cell_type": "code",
      "metadata": {
        "colab": {
          "base_uri": "https://localhost:8080/"
        },
        "id": "KZi4b37y0q8z",
        "outputId": "dc261292-34b5-45a0-dd4c-a5822a4d80e8"
      },
      "source": [
        "#시리즈 생성시 인덱스없이 생성\n",
        "slt = pd.Series(lt)\n",
        "print(slt)\n"
      ],
      "execution_count": 10,
      "outputs": [
        {
          "output_type": "stream",
          "name": "stdout",
          "text": [
            "0     4.1\n",
            "1     5.5\n",
            "2     9.0\n",
            "3    15.0\n",
            "4    19.0\n",
            "5    21.3\n",
            "dtype: float64\n"
          ]
        }
      ]
    },
    {
      "cell_type": "code",
      "metadata": {
        "colab": {
          "base_uri": "https://localhost:8080/"
        },
        "id": "NkWLof75WFhu",
        "outputId": "44f13583-6d89-4b0a-e691-cbd8985a55f3"
      },
      "source": [
        "slt.index"
      ],
      "execution_count": 11,
      "outputs": [
        {
          "output_type": "execute_result",
          "data": {
            "text/plain": [
              "RangeIndex(start=0, stop=6, step=1)"
            ]
          },
          "metadata": {},
          "execution_count": 11
        }
      ]
    },
    {
      "cell_type": "code",
      "metadata": {
        "colab": {
          "base_uri": "https://localhost:8080/"
        },
        "id": "PLjO-A_IWEM0",
        "outputId": "c1692ea2-8352-40b1-9d9d-a52f19fd31f6"
      },
      "source": [
        "#시리즈 인덱스 변경\n",
        "slt.index = ltk\n",
        "print(slt)"
      ],
      "execution_count": 12,
      "outputs": [
        {
          "output_type": "stream",
          "name": "stdout",
          "text": [
            "1월     4.1\n",
            "2월     5.5\n",
            "3월     9.0\n",
            "4월    15.0\n",
            "5월    19.0\n",
            "6월    21.3\n",
            "dtype: float64\n"
          ]
        }
      ]
    },
    {
      "cell_type": "markdown",
      "metadata": {
        "id": "cmdEnUaa06Ss"
      },
      "source": [
        "### **시리즈(Series) 인덱싱(indexing)**\n",
        "* 인덱스를 가지고 시리즈에서 특정 항목 추출\n",
        "\n"
      ]
    },
    {
      "cell_type": "code",
      "metadata": {
        "colab": {
          "base_uri": "https://localhost:8080/"
        },
        "id": "TUaFgVms1Pgm",
        "outputId": "e08efbd8-4324-45af-8781-6aec7dfb3fe2"
      },
      "source": [
        "ltk = ['1월', '2월', '3월', '4월', '5월', '6월']\n",
        "lt = [4.1, 5.5, 9.0, 15.0, 19.0 ,21.3]\n",
        "slt = pd.Series(lt)\n",
        "slt2 = pd.Series(lt, index=ltk)\n",
        "print(slt)\n",
        "print(slt2)"
      ],
      "execution_count": 13,
      "outputs": [
        {
          "output_type": "stream",
          "name": "stdout",
          "text": [
            "0     4.1\n",
            "1     5.5\n",
            "2     9.0\n",
            "3    15.0\n",
            "4    19.0\n",
            "5    21.3\n",
            "dtype: float64\n",
            "1월     4.1\n",
            "2월     5.5\n",
            "3월     9.0\n",
            "4월    15.0\n",
            "5월    19.0\n",
            "6월    21.3\n",
            "dtype: float64\n"
          ]
        }
      ]
    },
    {
      "cell_type": "code",
      "metadata": {
        "colab": {
          "base_uri": "https://localhost:8080/"
        },
        "id": "kxa270nt3Hga",
        "outputId": "c799f795-f56b-46c8-e0f7-2af1e659866e"
      },
      "source": [
        "#slt 시리즈에서 인덱스가 2인 항목 값 가져오기\n",
        "slt[2]"
      ],
      "execution_count": 14,
      "outputs": [
        {
          "output_type": "execute_result",
          "data": {
            "text/plain": [
              "9.0"
            ]
          },
          "metadata": {},
          "execution_count": 14
        }
      ]
    },
    {
      "cell_type": "code",
      "metadata": {
        "colab": {
          "base_uri": "https://localhost:8080/"
        },
        "id": "3TF_1-Ny3NGW",
        "outputId": "2c518303-cacc-4fb2-9f7d-67532b04469b"
      },
      "source": [
        "#slt2 시리즈에서 3월의 값가져오기\n",
        "slt2['3월']"
      ],
      "execution_count": 15,
      "outputs": [
        {
          "output_type": "execute_result",
          "data": {
            "text/plain": [
              "9.0"
            ]
          },
          "metadata": {},
          "execution_count": 15
        }
      ]
    },
    {
      "cell_type": "markdown",
      "metadata": {
        "id": "JLUVMpZG3aMB"
      },
      "source": [
        "### **시리즈(Series) 슬라이싱(Slicing)**\n",
        "* 시리즈 일부를 추출하여 시리즈로 반환\n",
        "* 콜론(;), 쉼표(,) 사용\n",
        "* 조건 사용"
      ]
    },
    {
      "cell_type": "markdown",
      "metadata": {
        "id": "Qamj0jPw6-Fl"
      },
      "source": [
        "#### 콜론(:), 쉼표(,) 사용"
      ]
    },
    {
      "cell_type": "code",
      "metadata": {
        "colab": {
          "base_uri": "https://localhost:8080/"
        },
        "id": "8hx190om36xv",
        "outputId": "5c88ac21-bb5c-4d90-fc8b-a3e1f9707f61"
      },
      "source": [
        "#인덱스가 1에서 2인 자료 추출\n",
        "sub1 = slt[1:3]\n",
        "print(sub1)"
      ],
      "execution_count": 16,
      "outputs": [
        {
          "output_type": "stream",
          "name": "stdout",
          "text": [
            "1    5.5\n",
            "2    9.0\n",
            "dtype: float64\n"
          ]
        }
      ]
    },
    {
      "cell_type": "code",
      "metadata": {
        "colab": {
          "base_uri": "https://localhost:8080/"
        },
        "id": "J1rp78tW4fwV",
        "outputId": "8c9ae128-f5f7-4a69-9e6d-ea66df153298"
      },
      "source": [
        "#인덱스가 1월에서 3월인 자료 추출\n",
        "sub2 = slt2['2월':'3월']\n",
        "print(sub2)"
      ],
      "execution_count": 17,
      "outputs": [
        {
          "output_type": "stream",
          "name": "stdout",
          "text": [
            "2월    5.5\n",
            "3월    9.0\n",
            "dtype: float64\n"
          ]
        }
      ]
    },
    {
      "cell_type": "code",
      "metadata": {
        "colab": {
          "base_uri": "https://localhost:8080/"
        },
        "id": "Xl4j7Xtu4pZL",
        "outputId": "d7041163-efb5-4f2f-b8a7-d58e40ac6d74"
      },
      "source": [
        "#인덱스가 1,3,5인 자료 추출\n",
        "sub1_1 = slt[[1, 3, 5]]\n",
        "print(sub1_1)"
      ],
      "execution_count": 18,
      "outputs": [
        {
          "output_type": "stream",
          "name": "stdout",
          "text": [
            "1     5.5\n",
            "3    15.0\n",
            "5    21.3\n",
            "dtype: float64\n"
          ]
        }
      ]
    },
    {
      "cell_type": "code",
      "metadata": {
        "colab": {
          "base_uri": "https://localhost:8080/"
        },
        "id": "OvrbFhUf5AVQ",
        "outputId": "c51421b8-b3d4-4acc-8ccc-26318f7a2c16"
      },
      "source": [
        "##인덱스가 2월,4월, 6월인 자료 추출\n",
        "sub2_1 = slt2[['2월', '4월', '6월']]\n",
        "print(sub2_1)"
      ],
      "execution_count": 19,
      "outputs": [
        {
          "output_type": "stream",
          "name": "stdout",
          "text": [
            "2월     5.5\n",
            "4월    15.0\n",
            "6월    21.3\n",
            "dtype: float64\n"
          ]
        }
      ]
    },
    {
      "cell_type": "markdown",
      "metadata": {
        "id": "QTVb55OJ7HQx"
      },
      "source": [
        "#### 조건 사용"
      ]
    },
    {
      "cell_type": "code",
      "metadata": {
        "colab": {
          "base_uri": "https://localhost:8080/"
        },
        "id": "D2bcfzGj7J6a",
        "outputId": "a41e6906-cca2-4452-8459-d77cb3bded83"
      },
      "source": [
        "print(slt)"
      ],
      "execution_count": 20,
      "outputs": [
        {
          "output_type": "stream",
          "name": "stdout",
          "text": [
            "0     4.1\n",
            "1     5.5\n",
            "2     9.0\n",
            "3    15.0\n",
            "4    19.0\n",
            "5    21.3\n",
            "dtype: float64\n"
          ]
        }
      ]
    },
    {
      "cell_type": "code",
      "metadata": {
        "colab": {
          "base_uri": "https://localhost:8080/",
          "height": 272
        },
        "id": "qqz0ga8w7TLf",
        "outputId": "39b73441-3c5c-4307-ffdc-4005e88b533f"
      },
      "source": [
        "slt > 10"
      ],
      "execution_count": 21,
      "outputs": [
        {
          "output_type": "execute_result",
          "data": {
            "text/plain": [
              "0    False\n",
              "1    False\n",
              "2    False\n",
              "3     True\n",
              "4     True\n",
              "5     True\n",
              "dtype: bool"
            ],
            "text/html": [
              "<div>\n",
              "<style scoped>\n",
              "    .dataframe tbody tr th:only-of-type {\n",
              "        vertical-align: middle;\n",
              "    }\n",
              "\n",
              "    .dataframe tbody tr th {\n",
              "        vertical-align: top;\n",
              "    }\n",
              "\n",
              "    .dataframe thead th {\n",
              "        text-align: right;\n",
              "    }\n",
              "</style>\n",
              "<table border=\"1\" class=\"dataframe\">\n",
              "  <thead>\n",
              "    <tr style=\"text-align: right;\">\n",
              "      <th></th>\n",
              "      <th>0</th>\n",
              "    </tr>\n",
              "  </thead>\n",
              "  <tbody>\n",
              "    <tr>\n",
              "      <th>0</th>\n",
              "      <td>False</td>\n",
              "    </tr>\n",
              "    <tr>\n",
              "      <th>1</th>\n",
              "      <td>False</td>\n",
              "    </tr>\n",
              "    <tr>\n",
              "      <th>2</th>\n",
              "      <td>False</td>\n",
              "    </tr>\n",
              "    <tr>\n",
              "      <th>3</th>\n",
              "      <td>True</td>\n",
              "    </tr>\n",
              "    <tr>\n",
              "      <th>4</th>\n",
              "      <td>True</td>\n",
              "    </tr>\n",
              "    <tr>\n",
              "      <th>5</th>\n",
              "      <td>True</td>\n",
              "    </tr>\n",
              "  </tbody>\n",
              "</table>\n",
              "</div><br><label><b>dtype:</b> bool</label>"
            ]
          },
          "metadata": {},
          "execution_count": 21
        }
      ]
    },
    {
      "cell_type": "code",
      "metadata": {
        "colab": {
          "base_uri": "https://localhost:8080/",
          "height": 178
        },
        "id": "IdMbByTM7fBM",
        "outputId": "fc0aa9f0-1aa2-49dd-a41c-daee3831c068"
      },
      "source": [
        "#값이 10보다 큰 자료 추출\n",
        "slt[slt > 10]"
      ],
      "execution_count": 22,
      "outputs": [
        {
          "output_type": "execute_result",
          "data": {
            "text/plain": [
              "3    15.0\n",
              "4    19.0\n",
              "5    21.3\n",
              "dtype: float64"
            ],
            "text/html": [
              "<div>\n",
              "<style scoped>\n",
              "    .dataframe tbody tr th:only-of-type {\n",
              "        vertical-align: middle;\n",
              "    }\n",
              "\n",
              "    .dataframe tbody tr th {\n",
              "        vertical-align: top;\n",
              "    }\n",
              "\n",
              "    .dataframe thead th {\n",
              "        text-align: right;\n",
              "    }\n",
              "</style>\n",
              "<table border=\"1\" class=\"dataframe\">\n",
              "  <thead>\n",
              "    <tr style=\"text-align: right;\">\n",
              "      <th></th>\n",
              "      <th>0</th>\n",
              "    </tr>\n",
              "  </thead>\n",
              "  <tbody>\n",
              "    <tr>\n",
              "      <th>3</th>\n",
              "      <td>15.0</td>\n",
              "    </tr>\n",
              "    <tr>\n",
              "      <th>4</th>\n",
              "      <td>19.0</td>\n",
              "    </tr>\n",
              "    <tr>\n",
              "      <th>5</th>\n",
              "      <td>21.3</td>\n",
              "    </tr>\n",
              "  </tbody>\n",
              "</table>\n",
              "</div><br><label><b>dtype:</b> float64</label>"
            ]
          },
          "metadata": {},
          "execution_count": 22
        }
      ]
    },
    {
      "cell_type": "code",
      "metadata": {
        "colab": {
          "base_uri": "https://localhost:8080/",
          "height": 178
        },
        "id": "R1QgLNEW7iOu",
        "outputId": "c992431d-1640-48cc-aa01-9deb5c7068ac"
      },
      "source": [
        "#값이 10보다 큰 자료 추출2\n",
        "slt[slt.values > 10]"
      ],
      "execution_count": 23,
      "outputs": [
        {
          "output_type": "execute_result",
          "data": {
            "text/plain": [
              "3    15.0\n",
              "4    19.0\n",
              "5    21.3\n",
              "dtype: float64"
            ],
            "text/html": [
              "<div>\n",
              "<style scoped>\n",
              "    .dataframe tbody tr th:only-of-type {\n",
              "        vertical-align: middle;\n",
              "    }\n",
              "\n",
              "    .dataframe tbody tr th {\n",
              "        vertical-align: top;\n",
              "    }\n",
              "\n",
              "    .dataframe thead th {\n",
              "        text-align: right;\n",
              "    }\n",
              "</style>\n",
              "<table border=\"1\" class=\"dataframe\">\n",
              "  <thead>\n",
              "    <tr style=\"text-align: right;\">\n",
              "      <th></th>\n",
              "      <th>0</th>\n",
              "    </tr>\n",
              "  </thead>\n",
              "  <tbody>\n",
              "    <tr>\n",
              "      <th>3</th>\n",
              "      <td>15.0</td>\n",
              "    </tr>\n",
              "    <tr>\n",
              "      <th>4</th>\n",
              "      <td>19.0</td>\n",
              "    </tr>\n",
              "    <tr>\n",
              "      <th>5</th>\n",
              "      <td>21.3</td>\n",
              "    </tr>\n",
              "  </tbody>\n",
              "</table>\n",
              "</div><br><label><b>dtype:</b> float64</label>"
            ]
          },
          "metadata": {},
          "execution_count": 23
        }
      ]
    },
    {
      "cell_type": "code",
      "metadata": {
        "colab": {
          "base_uri": "https://localhost:8080/",
          "height": 178
        },
        "id": "w_DB2GG07tLZ",
        "outputId": "254c7b18-419f-4a58-c522-269653afa832"
      },
      "source": [
        "#인덱스가 3보다 크거나 같은 자료 추출\n",
        "slt[slt.index >= 3]"
      ],
      "execution_count": 24,
      "outputs": [
        {
          "output_type": "execute_result",
          "data": {
            "text/plain": [
              "3    15.0\n",
              "4    19.0\n",
              "5    21.3\n",
              "dtype: float64"
            ],
            "text/html": [
              "<div>\n",
              "<style scoped>\n",
              "    .dataframe tbody tr th:only-of-type {\n",
              "        vertical-align: middle;\n",
              "    }\n",
              "\n",
              "    .dataframe tbody tr th {\n",
              "        vertical-align: top;\n",
              "    }\n",
              "\n",
              "    .dataframe thead th {\n",
              "        text-align: right;\n",
              "    }\n",
              "</style>\n",
              "<table border=\"1\" class=\"dataframe\">\n",
              "  <thead>\n",
              "    <tr style=\"text-align: right;\">\n",
              "      <th></th>\n",
              "      <th>0</th>\n",
              "    </tr>\n",
              "  </thead>\n",
              "  <tbody>\n",
              "    <tr>\n",
              "      <th>3</th>\n",
              "      <td>15.0</td>\n",
              "    </tr>\n",
              "    <tr>\n",
              "      <th>4</th>\n",
              "      <td>19.0</td>\n",
              "    </tr>\n",
              "    <tr>\n",
              "      <th>5</th>\n",
              "      <td>21.3</td>\n",
              "    </tr>\n",
              "  </tbody>\n",
              "</table>\n",
              "</div><br><label><b>dtype:</b> float64</label>"
            ]
          },
          "metadata": {},
          "execution_count": 24
        }
      ]
    },
    {
      "cell_type": "markdown",
      "metadata": {
        "id": "0L8-sxGe7m1d"
      },
      "source": [
        "### **시리즈(Series) 연산**\n",
        "* 시리즈(Series) 길이가 같고 인덱스가 같은 것끼리 연산\n",
        " + 더하기(+) : 각 값 더하기\n",
        " + 곱하기(*) : 각 값 곱하기"
      ]
    },
    {
      "cell_type": "code",
      "metadata": {
        "colab": {
          "base_uri": "https://localhost:8080/"
        },
        "id": "YEPD_XXT8gMP",
        "outputId": "6283860f-c5a1-4f07-fea9-0d2b583d0421"
      },
      "source": [
        "print(slt)\n",
        "print(slt2)"
      ],
      "execution_count": 25,
      "outputs": [
        {
          "output_type": "stream",
          "name": "stdout",
          "text": [
            "0     4.1\n",
            "1     5.5\n",
            "2     9.0\n",
            "3    15.0\n",
            "4    19.0\n",
            "5    21.3\n",
            "dtype: float64\n",
            "1월     4.1\n",
            "2월     5.5\n",
            "3월     9.0\n",
            "4월    15.0\n",
            "5월    19.0\n",
            "6월    21.3\n",
            "dtype: float64\n"
          ]
        }
      ]
    },
    {
      "cell_type": "code",
      "metadata": {
        "colab": {
          "base_uri": "https://localhost:8080/"
        },
        "id": "y766JEqK8rf-",
        "outputId": "7d6a8fc3-ac55-4c15-cbfe-fae173f5b16e"
      },
      "source": [
        "#인덱스가 다른 경우\n",
        "print(slt + slt2)"
      ],
      "execution_count": 26,
      "outputs": [
        {
          "output_type": "stream",
          "name": "stdout",
          "text": [
            "0    NaN\n",
            "1    NaN\n",
            "2    NaN\n",
            "3    NaN\n",
            "4    NaN\n",
            "5    NaN\n",
            "1월   NaN\n",
            "2월   NaN\n",
            "3월   NaN\n",
            "4월   NaN\n",
            "5월   NaN\n",
            "6월   NaN\n",
            "dtype: float64\n"
          ]
        }
      ]
    },
    {
      "cell_type": "code",
      "metadata": {
        "colab": {
          "base_uri": "https://localhost:8080/"
        },
        "id": "j5VSvPbK84Vz",
        "outputId": "240fce16-aa45-40da-8812-3c6c0b80ddd6"
      },
      "source": [
        "slt.index = slt2.index\n",
        "print(slt)\n",
        "print(slt2)"
      ],
      "execution_count": 27,
      "outputs": [
        {
          "output_type": "stream",
          "name": "stdout",
          "text": [
            "1월     4.1\n",
            "2월     5.5\n",
            "3월     9.0\n",
            "4월    15.0\n",
            "5월    19.0\n",
            "6월    21.3\n",
            "dtype: float64\n",
            "1월     4.1\n",
            "2월     5.5\n",
            "3월     9.0\n",
            "4월    15.0\n",
            "5월    19.0\n",
            "6월    21.3\n",
            "dtype: float64\n"
          ]
        }
      ]
    },
    {
      "cell_type": "code",
      "metadata": {
        "colab": {
          "base_uri": "https://localhost:8080/"
        },
        "id": "m4hMGiJc9FJT",
        "outputId": "d4f5f0fe-0b74-4e11-f550-c6eb7754446b"
      },
      "source": [
        "#인덱스가 같은 경우\n",
        "print(slt + slt2)\n",
        "print(slt * slt2)"
      ],
      "execution_count": 28,
      "outputs": [
        {
          "output_type": "stream",
          "name": "stdout",
          "text": [
            "1월     8.2\n",
            "2월    11.0\n",
            "3월    18.0\n",
            "4월    30.0\n",
            "5월    38.0\n",
            "6월    42.6\n",
            "dtype: float64\n",
            "1월     16.81\n",
            "2월     30.25\n",
            "3월     81.00\n",
            "4월    225.00\n",
            "5월    361.00\n",
            "6월    453.69\n",
            "dtype: float64\n"
          ]
        }
      ]
    },
    {
      "cell_type": "markdown",
      "metadata": {
        "id": "y5yftJED790Q"
      },
      "source": [
        "### **시리즈(Series) 기본 조회와 기초 통계 메소드**\n",
        "* head(n) : 상위 n개 조회, n생략 시 5개 조회\n",
        "+ tail(n) : 하위 n개 조회, n생략 시 5개 조회\n",
        "+ describe() : 요약 통계량 계산\n",
        "+ mean() : 평균\n",
        "+ max() : 최대\n",
        "+ min() : 최소\n",
        "+ std()  : 표준편차"
      ]
    },
    {
      "cell_type": "code",
      "metadata": {
        "colab": {
          "base_uri": "https://localhost:8080/"
        },
        "id": "FpFqpash-KEK",
        "outputId": "908cf02f-cfb3-4271-d08f-8c624669bd61"
      },
      "source": [
        "print(slt)"
      ],
      "execution_count": 29,
      "outputs": [
        {
          "output_type": "stream",
          "name": "stdout",
          "text": [
            "1월     4.1\n",
            "2월     5.5\n",
            "3월     9.0\n",
            "4월    15.0\n",
            "5월    19.0\n",
            "6월    21.3\n",
            "dtype: float64\n"
          ]
        }
      ]
    },
    {
      "cell_type": "code",
      "metadata": {
        "colab": {
          "base_uri": "https://localhost:8080/",
          "height": 241
        },
        "id": "wJEKOJSAAEaC",
        "outputId": "ebe3c39e-7e6f-4572-ba96-58ef663e0dc7"
      },
      "source": [
        "#상위 5개 자료 추출\n",
        "slt.head()"
      ],
      "execution_count": 30,
      "outputs": [
        {
          "output_type": "execute_result",
          "data": {
            "text/plain": [
              "1월     4.1\n",
              "2월     5.5\n",
              "3월     9.0\n",
              "4월    15.0\n",
              "5월    19.0\n",
              "dtype: float64"
            ],
            "text/html": [
              "<div>\n",
              "<style scoped>\n",
              "    .dataframe tbody tr th:only-of-type {\n",
              "        vertical-align: middle;\n",
              "    }\n",
              "\n",
              "    .dataframe tbody tr th {\n",
              "        vertical-align: top;\n",
              "    }\n",
              "\n",
              "    .dataframe thead th {\n",
              "        text-align: right;\n",
              "    }\n",
              "</style>\n",
              "<table border=\"1\" class=\"dataframe\">\n",
              "  <thead>\n",
              "    <tr style=\"text-align: right;\">\n",
              "      <th></th>\n",
              "      <th>0</th>\n",
              "    </tr>\n",
              "  </thead>\n",
              "  <tbody>\n",
              "    <tr>\n",
              "      <th>1월</th>\n",
              "      <td>4.1</td>\n",
              "    </tr>\n",
              "    <tr>\n",
              "      <th>2월</th>\n",
              "      <td>5.5</td>\n",
              "    </tr>\n",
              "    <tr>\n",
              "      <th>3월</th>\n",
              "      <td>9.0</td>\n",
              "    </tr>\n",
              "    <tr>\n",
              "      <th>4월</th>\n",
              "      <td>15.0</td>\n",
              "    </tr>\n",
              "    <tr>\n",
              "      <th>5월</th>\n",
              "      <td>19.0</td>\n",
              "    </tr>\n",
              "  </tbody>\n",
              "</table>\n",
              "</div><br><label><b>dtype:</b> float64</label>"
            ]
          },
          "metadata": {},
          "execution_count": 30
        }
      ]
    },
    {
      "cell_type": "code",
      "metadata": {
        "colab": {
          "base_uri": "https://localhost:8080/",
          "height": 241
        },
        "id": "luZHKfrSAKB6",
        "outputId": "bcf0886d-8a1b-45c8-d452-f03ae8feeb7d"
      },
      "source": [
        "#하위 5개 자료 추출\n",
        "slt.tail()"
      ],
      "execution_count": 31,
      "outputs": [
        {
          "output_type": "execute_result",
          "data": {
            "text/plain": [
              "2월     5.5\n",
              "3월     9.0\n",
              "4월    15.0\n",
              "5월    19.0\n",
              "6월    21.3\n",
              "dtype: float64"
            ],
            "text/html": [
              "<div>\n",
              "<style scoped>\n",
              "    .dataframe tbody tr th:only-of-type {\n",
              "        vertical-align: middle;\n",
              "    }\n",
              "\n",
              "    .dataframe tbody tr th {\n",
              "        vertical-align: top;\n",
              "    }\n",
              "\n",
              "    .dataframe thead th {\n",
              "        text-align: right;\n",
              "    }\n",
              "</style>\n",
              "<table border=\"1\" class=\"dataframe\">\n",
              "  <thead>\n",
              "    <tr style=\"text-align: right;\">\n",
              "      <th></th>\n",
              "      <th>0</th>\n",
              "    </tr>\n",
              "  </thead>\n",
              "  <tbody>\n",
              "    <tr>\n",
              "      <th>2월</th>\n",
              "      <td>5.5</td>\n",
              "    </tr>\n",
              "    <tr>\n",
              "      <th>3월</th>\n",
              "      <td>9.0</td>\n",
              "    </tr>\n",
              "    <tr>\n",
              "      <th>4월</th>\n",
              "      <td>15.0</td>\n",
              "    </tr>\n",
              "    <tr>\n",
              "      <th>5월</th>\n",
              "      <td>19.0</td>\n",
              "    </tr>\n",
              "    <tr>\n",
              "      <th>6월</th>\n",
              "      <td>21.3</td>\n",
              "    </tr>\n",
              "  </tbody>\n",
              "</table>\n",
              "</div><br><label><b>dtype:</b> float64</label>"
            ]
          },
          "metadata": {},
          "execution_count": 31
        }
      ]
    },
    {
      "cell_type": "code",
      "metadata": {
        "colab": {
          "base_uri": "https://localhost:8080/",
          "height": 335
        },
        "id": "1ayZWyLjAMFG",
        "outputId": "9e5d5813-9d7f-4c55-859b-578fb9035e13"
      },
      "source": [
        "#시리즈 통계 요약\n",
        "slt.describe()"
      ],
      "execution_count": 32,
      "outputs": [
        {
          "output_type": "execute_result",
          "data": {
            "text/plain": [
              "count     6.000000\n",
              "mean     12.316667\n",
              "std       7.177024\n",
              "min       4.100000\n",
              "25%       6.375000\n",
              "50%      12.000000\n",
              "75%      18.000000\n",
              "max      21.300000\n",
              "dtype: float64"
            ],
            "text/html": [
              "<div>\n",
              "<style scoped>\n",
              "    .dataframe tbody tr th:only-of-type {\n",
              "        vertical-align: middle;\n",
              "    }\n",
              "\n",
              "    .dataframe tbody tr th {\n",
              "        vertical-align: top;\n",
              "    }\n",
              "\n",
              "    .dataframe thead th {\n",
              "        text-align: right;\n",
              "    }\n",
              "</style>\n",
              "<table border=\"1\" class=\"dataframe\">\n",
              "  <thead>\n",
              "    <tr style=\"text-align: right;\">\n",
              "      <th></th>\n",
              "      <th>0</th>\n",
              "    </tr>\n",
              "  </thead>\n",
              "  <tbody>\n",
              "    <tr>\n",
              "      <th>count</th>\n",
              "      <td>6.000000</td>\n",
              "    </tr>\n",
              "    <tr>\n",
              "      <th>mean</th>\n",
              "      <td>12.316667</td>\n",
              "    </tr>\n",
              "    <tr>\n",
              "      <th>std</th>\n",
              "      <td>7.177024</td>\n",
              "    </tr>\n",
              "    <tr>\n",
              "      <th>min</th>\n",
              "      <td>4.100000</td>\n",
              "    </tr>\n",
              "    <tr>\n",
              "      <th>25%</th>\n",
              "      <td>6.375000</td>\n",
              "    </tr>\n",
              "    <tr>\n",
              "      <th>50%</th>\n",
              "      <td>12.000000</td>\n",
              "    </tr>\n",
              "    <tr>\n",
              "      <th>75%</th>\n",
              "      <td>18.000000</td>\n",
              "    </tr>\n",
              "    <tr>\n",
              "      <th>max</th>\n",
              "      <td>21.300000</td>\n",
              "    </tr>\n",
              "  </tbody>\n",
              "</table>\n",
              "</div><br><label><b>dtype:</b> float64</label>"
            ]
          },
          "metadata": {},
          "execution_count": 32
        }
      ]
    },
    {
      "cell_type": "code",
      "metadata": {
        "colab": {
          "base_uri": "https://localhost:8080/"
        },
        "id": "UWIUKzfKAPpE",
        "outputId": "4bbc497b-a250-419f-ba3b-5ffd4a41d4c8"
      },
      "source": [
        "#시리즈 값 평균\n",
        "slt.mean()"
      ],
      "execution_count": 33,
      "outputs": [
        {
          "output_type": "execute_result",
          "data": {
            "text/plain": [
              "12.316666666666668"
            ]
          },
          "metadata": {},
          "execution_count": 33
        }
      ]
    },
    {
      "cell_type": "markdown",
      "metadata": {
        "id": "bFXP2GytA5X_"
      },
      "source": [
        "### **자주 사용되는 메소드**\n",
        "+ equals() : 시리즈와 시리즈가 같은지 비교, 키와 값이 모두 같아야 함\n",
        "+ replace() : 특정값을 가진 요소 값을 변경\n",
        "+ isin() : 시리즈에 포함된 값이 있는지 확인\n",
        "+ drop_duplicates() : 중복값이 없는 시리즈 반환\n",
        "+ append() : 2개이상의 시리즈 연결\n",
        "+ sort_index(ascending=True) : 인덱스로 정렬\n",
        "+ sort_values(ascending=False) : 값으로 정렬\n",
        "+ to_frame() : 시리즈를 데이터프레임으로 변경"
      ]
    },
    {
      "cell_type": "code",
      "metadata": {
        "id": "BXjfGW9nBeXU"
      },
      "source": [
        "dt = {'1월':4.1, '2월':5.5, '3월':9.0, '4월':15.0, '5월':19.0 ,'6월':21.3}\n",
        "sdt1 = pd.Series(dt)\n",
        "sdt2 = pd.Series(dt.values())"
      ],
      "execution_count": 34,
      "outputs": []
    },
    {
      "cell_type": "code",
      "metadata": {
        "colab": {
          "base_uri": "https://localhost:8080/"
        },
        "id": "V10QK33cBs69",
        "outputId": "1c11d65b-1fbb-42e4-f974-29e791aace51"
      },
      "source": [
        "print('[시리즈1]')\n",
        "print(sdt1)\n",
        "print('[시리즈2]')\n",
        "print(sdt2)"
      ],
      "execution_count": 35,
      "outputs": [
        {
          "output_type": "stream",
          "name": "stdout",
          "text": [
            "[시리즈1]\n",
            "1월     4.1\n",
            "2월     5.5\n",
            "3월     9.0\n",
            "4월    15.0\n",
            "5월    19.0\n",
            "6월    21.3\n",
            "dtype: float64\n",
            "[시리즈2]\n",
            "0     4.1\n",
            "1     5.5\n",
            "2     9.0\n",
            "3    15.0\n",
            "4    19.0\n",
            "5    21.3\n",
            "dtype: float64\n"
          ]
        }
      ]
    },
    {
      "cell_type": "code",
      "metadata": {
        "colab": {
          "base_uri": "https://localhost:8080/"
        },
        "id": "gFzdso_OB0Wf",
        "outputId": "9ccd866a-9238-433f-9780-3b9d81ea55e9"
      },
      "source": [
        "print('비교 :', sdt1.equals(sdt2))"
      ],
      "execution_count": 36,
      "outputs": [
        {
          "output_type": "stream",
          "name": "stdout",
          "text": [
            "비교 : False\n"
          ]
        }
      ]
    },
    {
      "cell_type": "code",
      "metadata": {
        "colab": {
          "base_uri": "https://localhost:8080/"
        },
        "id": "Im4my3opB5LV",
        "outputId": "123b4c2f-af0c-421f-830f-3620d3ce3334"
      },
      "source": [
        "print('변경 :')\n",
        "\n",
        "#5.5 값을 15로 변경\n",
        "sdt1 = sdt1.replace(5.5, 15)\n",
        "print(sdt1)"
      ],
      "execution_count": 37,
      "outputs": [
        {
          "output_type": "stream",
          "name": "stdout",
          "text": [
            "변경 :\n",
            "1월     4.1\n",
            "2월    15.0\n",
            "3월     9.0\n",
            "4월    15.0\n",
            "5월    19.0\n",
            "6월    21.3\n",
            "dtype: float64\n"
          ]
        }
      ]
    },
    {
      "cell_type": "code",
      "metadata": {
        "colab": {
          "base_uri": "https://localhost:8080/"
        },
        "id": "AsiPDZ29YjQc",
        "outputId": "a8ffca18-8b75-4139-c30d-4ce92524938f"
      },
      "source": [
        "sdt1 = sdt1.replace(15, 15.5)\n",
        "print(sdt1)"
      ],
      "execution_count": 38,
      "outputs": [
        {
          "output_type": "stream",
          "name": "stdout",
          "text": [
            "1월     4.1\n",
            "2월    15.5\n",
            "3월     9.0\n",
            "4월    15.5\n",
            "5월    19.0\n",
            "6월    21.3\n",
            "dtype: float64\n"
          ]
        }
      ]
    },
    {
      "cell_type": "code",
      "metadata": {
        "colab": {
          "base_uri": "https://localhost:8080/"
        },
        "id": "F1480C2SB8Mr",
        "outputId": "633bc8c4-35df-4c29-8cc5-40c1440078a7"
      },
      "source": [
        "print('포함:')\n",
        "#값을 15.5, 9.0을 가지는 자료 추출\n",
        "print(sdt1[sdt1.isin([15.5, 9.0])])\n",
        ""
      ],
      "execution_count": 39,
      "outputs": [
        {
          "output_type": "stream",
          "name": "stdout",
          "text": [
            "포함:\n",
            "2월    15.5\n",
            "3월     9.0\n",
            "4월    15.5\n",
            "dtype: float64\n"
          ]
        }
      ]
    },
    {
      "cell_type": "code",
      "metadata": {
        "colab": {
          "base_uri": "https://localhost:8080/"
        },
        "id": "W8wfvcNrCC5E",
        "outputId": "79711cbc-503f-43b3-828d-0153ef7f2346"
      },
      "source": [
        "print('중복제거:')\n",
        "print(sdt1.drop_duplicates())\n",
        "print('중복제거반영확인:')\n",
        "#중복제거하여 시리즈에 반영\n",
        "sdt1 = sdt1.drop_duplicates()\n",
        "print(sdt1)"
      ],
      "execution_count": 40,
      "outputs": [
        {
          "output_type": "stream",
          "name": "stdout",
          "text": [
            "중복제거:\n",
            "1월     4.1\n",
            "2월    15.5\n",
            "3월     9.0\n",
            "5월    19.0\n",
            "6월    21.3\n",
            "dtype: float64\n",
            "중복제거반영확인:\n",
            "1월     4.1\n",
            "2월    15.5\n",
            "3월     9.0\n",
            "5월    19.0\n",
            "6월    21.3\n",
            "dtype: float64\n"
          ]
        }
      ]
    },
    {
      "cell_type": "code",
      "metadata": {
        "colab": {
          "base_uri": "https://localhost:8080/"
        },
        "id": "Qdy9gcQUCHA0",
        "outputId": "15b50c0f-1fc5-4ff5-d506-1216c7e4a994"
      },
      "source": [
        "#시리즈 연결하기\n",
        "print('연결:')\n",
        "print(pd.concat([sdt1, sdt2]))"
      ],
      "execution_count": 49,
      "outputs": [
        {
          "output_type": "stream",
          "name": "stdout",
          "text": [
            "연결:\n",
            "1월     4.1\n",
            "2월    15.5\n",
            "3월     9.0\n",
            "5월    19.0\n",
            "6월    21.3\n",
            "0      4.1\n",
            "1      5.5\n",
            "2      9.0\n",
            "3     15.0\n",
            "4     19.0\n",
            "5     21.3\n",
            "dtype: float64\n"
          ]
        }
      ]
    },
    {
      "cell_type": "code",
      "metadata": {
        "colab": {
          "base_uri": "https://localhost:8080/"
        },
        "id": "JlO85hlmCKEz",
        "outputId": "f2b97b4d-4b34-440b-efdb-720295d7d3a1"
      },
      "source": [
        "print('정렬(값):')\n",
        "#시리즈 값으로 정렬하기\n",
        "print(sdt1.sort_values(ascending=True))\n",
        "print('정렬(인덱스):')\n",
        "#시리즈 인덱스로 역순으로 정렬하기\n",
        "print(sdt1.sort_index(ascending=False))"
      ],
      "execution_count": 42,
      "outputs": [
        {
          "output_type": "stream",
          "name": "stdout",
          "text": [
            "정렬(값):\n",
            "1월     4.1\n",
            "3월     9.0\n",
            "2월    15.5\n",
            "5월    19.0\n",
            "6월    21.3\n",
            "dtype: float64\n",
            "정렬(인덱스):\n",
            "6월    21.3\n",
            "5월    19.0\n",
            "3월     9.0\n",
            "2월    15.5\n",
            "1월     4.1\n",
            "dtype: float64\n"
          ]
        }
      ]
    },
    {
      "cell_type": "code",
      "metadata": {
        "colab": {
          "base_uri": "https://localhost:8080/",
          "height": 225
        },
        "id": "_cVdvd6lCN0F",
        "outputId": "3110eeec-12cd-468e-969b-26570592c297"
      },
      "source": [
        "print('데이터프레임변환:')\n",
        "#시리즈 데이터 프레임으로 변환하기\n",
        "sdt1 =sdt1.to_frame()\n",
        "sdt1"
      ],
      "execution_count": 50,
      "outputs": [
        {
          "output_type": "stream",
          "name": "stdout",
          "text": [
            "데이터프레임변환:\n"
          ]
        },
        {
          "output_type": "execute_result",
          "data": {
            "text/plain": [
              "       0\n",
              "1월   4.1\n",
              "2월  15.5\n",
              "3월   9.0\n",
              "5월  19.0\n",
              "6월  21.3"
            ],
            "text/html": [
              "\n",
              "  <div id=\"df-44088633-7865-436d-a88c-a0e0277ce368\" class=\"colab-df-container\">\n",
              "    <div>\n",
              "<style scoped>\n",
              "    .dataframe tbody tr th:only-of-type {\n",
              "        vertical-align: middle;\n",
              "    }\n",
              "\n",
              "    .dataframe tbody tr th {\n",
              "        vertical-align: top;\n",
              "    }\n",
              "\n",
              "    .dataframe thead th {\n",
              "        text-align: right;\n",
              "    }\n",
              "</style>\n",
              "<table border=\"1\" class=\"dataframe\">\n",
              "  <thead>\n",
              "    <tr style=\"text-align: right;\">\n",
              "      <th></th>\n",
              "      <th>0</th>\n",
              "    </tr>\n",
              "  </thead>\n",
              "  <tbody>\n",
              "    <tr>\n",
              "      <th>1월</th>\n",
              "      <td>4.1</td>\n",
              "    </tr>\n",
              "    <tr>\n",
              "      <th>2월</th>\n",
              "      <td>15.5</td>\n",
              "    </tr>\n",
              "    <tr>\n",
              "      <th>3월</th>\n",
              "      <td>9.0</td>\n",
              "    </tr>\n",
              "    <tr>\n",
              "      <th>5월</th>\n",
              "      <td>19.0</td>\n",
              "    </tr>\n",
              "    <tr>\n",
              "      <th>6월</th>\n",
              "      <td>21.3</td>\n",
              "    </tr>\n",
              "  </tbody>\n",
              "</table>\n",
              "</div>\n",
              "    <div class=\"colab-df-buttons\">\n",
              "\n",
              "  <div class=\"colab-df-container\">\n",
              "    <button class=\"colab-df-convert\" onclick=\"convertToInteractive('df-44088633-7865-436d-a88c-a0e0277ce368')\"\n",
              "            title=\"Convert this dataframe to an interactive table.\"\n",
              "            style=\"display:none;\">\n",
              "\n",
              "  <svg xmlns=\"http://www.w3.org/2000/svg\" height=\"24px\" viewBox=\"0 -960 960 960\">\n",
              "    <path d=\"M120-120v-720h720v720H120Zm60-500h600v-160H180v160Zm220 220h160v-160H400v160Zm0 220h160v-160H400v160ZM180-400h160v-160H180v160Zm440 0h160v-160H620v160ZM180-180h160v-160H180v160Zm440 0h160v-160H620v160Z\"/>\n",
              "  </svg>\n",
              "    </button>\n",
              "\n",
              "  <style>\n",
              "    .colab-df-container {\n",
              "      display:flex;\n",
              "      gap: 12px;\n",
              "    }\n",
              "\n",
              "    .colab-df-convert {\n",
              "      background-color: #E8F0FE;\n",
              "      border: none;\n",
              "      border-radius: 50%;\n",
              "      cursor: pointer;\n",
              "      display: none;\n",
              "      fill: #1967D2;\n",
              "      height: 32px;\n",
              "      padding: 0 0 0 0;\n",
              "      width: 32px;\n",
              "    }\n",
              "\n",
              "    .colab-df-convert:hover {\n",
              "      background-color: #E2EBFA;\n",
              "      box-shadow: 0px 1px 2px rgba(60, 64, 67, 0.3), 0px 1px 3px 1px rgba(60, 64, 67, 0.15);\n",
              "      fill: #174EA6;\n",
              "    }\n",
              "\n",
              "    .colab-df-buttons div {\n",
              "      margin-bottom: 4px;\n",
              "    }\n",
              "\n",
              "    [theme=dark] .colab-df-convert {\n",
              "      background-color: #3B4455;\n",
              "      fill: #D2E3FC;\n",
              "    }\n",
              "\n",
              "    [theme=dark] .colab-df-convert:hover {\n",
              "      background-color: #434B5C;\n",
              "      box-shadow: 0px 1px 3px 1px rgba(0, 0, 0, 0.15);\n",
              "      filter: drop-shadow(0px 1px 2px rgba(0, 0, 0, 0.3));\n",
              "      fill: #FFFFFF;\n",
              "    }\n",
              "  </style>\n",
              "\n",
              "    <script>\n",
              "      const buttonEl =\n",
              "        document.querySelector('#df-44088633-7865-436d-a88c-a0e0277ce368 button.colab-df-convert');\n",
              "      buttonEl.style.display =\n",
              "        google.colab.kernel.accessAllowed ? 'block' : 'none';\n",
              "\n",
              "      async function convertToInteractive(key) {\n",
              "        const element = document.querySelector('#df-44088633-7865-436d-a88c-a0e0277ce368');\n",
              "        const dataTable =\n",
              "          await google.colab.kernel.invokeFunction('convertToInteractive',\n",
              "                                                    [key], {});\n",
              "        if (!dataTable) return;\n",
              "\n",
              "        const docLinkHtml = 'Like what you see? Visit the ' +\n",
              "          '<a target=\"_blank\" href=https://colab.research.google.com/notebooks/data_table.ipynb>data table notebook</a>'\n",
              "          + ' to learn more about interactive tables.';\n",
              "        element.innerHTML = '';\n",
              "        dataTable['output_type'] = 'display_data';\n",
              "        await google.colab.output.renderOutput(dataTable, element);\n",
              "        const docLink = document.createElement('div');\n",
              "        docLink.innerHTML = docLinkHtml;\n",
              "        element.appendChild(docLink);\n",
              "      }\n",
              "    </script>\n",
              "  </div>\n",
              "\n",
              "\n",
              "<div id=\"df-65b1c8a1-b4ff-4b5b-8cfc-c876647dda2f\">\n",
              "  <button class=\"colab-df-quickchart\" onclick=\"quickchart('df-65b1c8a1-b4ff-4b5b-8cfc-c876647dda2f')\"\n",
              "            title=\"Suggest charts\"\n",
              "            style=\"display:none;\">\n",
              "\n",
              "<svg xmlns=\"http://www.w3.org/2000/svg\" height=\"24px\"viewBox=\"0 0 24 24\"\n",
              "     width=\"24px\">\n",
              "    <g>\n",
              "        <path d=\"M19 3H5c-1.1 0-2 .9-2 2v14c0 1.1.9 2 2 2h14c1.1 0 2-.9 2-2V5c0-1.1-.9-2-2-2zM9 17H7v-7h2v7zm4 0h-2V7h2v10zm4 0h-2v-4h2v4z\"/>\n",
              "    </g>\n",
              "</svg>\n",
              "  </button>\n",
              "\n",
              "<style>\n",
              "  .colab-df-quickchart {\n",
              "      --bg-color: #E8F0FE;\n",
              "      --fill-color: #1967D2;\n",
              "      --hover-bg-color: #E2EBFA;\n",
              "      --hover-fill-color: #174EA6;\n",
              "      --disabled-fill-color: #AAA;\n",
              "      --disabled-bg-color: #DDD;\n",
              "  }\n",
              "\n",
              "  [theme=dark] .colab-df-quickchart {\n",
              "      --bg-color: #3B4455;\n",
              "      --fill-color: #D2E3FC;\n",
              "      --hover-bg-color: #434B5C;\n",
              "      --hover-fill-color: #FFFFFF;\n",
              "      --disabled-bg-color: #3B4455;\n",
              "      --disabled-fill-color: #666;\n",
              "  }\n",
              "\n",
              "  .colab-df-quickchart {\n",
              "    background-color: var(--bg-color);\n",
              "    border: none;\n",
              "    border-radius: 50%;\n",
              "    cursor: pointer;\n",
              "    display: none;\n",
              "    fill: var(--fill-color);\n",
              "    height: 32px;\n",
              "    padding: 0;\n",
              "    width: 32px;\n",
              "  }\n",
              "\n",
              "  .colab-df-quickchart:hover {\n",
              "    background-color: var(--hover-bg-color);\n",
              "    box-shadow: 0 1px 2px rgba(60, 64, 67, 0.3), 0 1px 3px 1px rgba(60, 64, 67, 0.15);\n",
              "    fill: var(--button-hover-fill-color);\n",
              "  }\n",
              "\n",
              "  .colab-df-quickchart-complete:disabled,\n",
              "  .colab-df-quickchart-complete:disabled:hover {\n",
              "    background-color: var(--disabled-bg-color);\n",
              "    fill: var(--disabled-fill-color);\n",
              "    box-shadow: none;\n",
              "  }\n",
              "\n",
              "  .colab-df-spinner {\n",
              "    border: 2px solid var(--fill-color);\n",
              "    border-color: transparent;\n",
              "    border-bottom-color: var(--fill-color);\n",
              "    animation:\n",
              "      spin 1s steps(1) infinite;\n",
              "  }\n",
              "\n",
              "  @keyframes spin {\n",
              "    0% {\n",
              "      border-color: transparent;\n",
              "      border-bottom-color: var(--fill-color);\n",
              "      border-left-color: var(--fill-color);\n",
              "    }\n",
              "    20% {\n",
              "      border-color: transparent;\n",
              "      border-left-color: var(--fill-color);\n",
              "      border-top-color: var(--fill-color);\n",
              "    }\n",
              "    30% {\n",
              "      border-color: transparent;\n",
              "      border-left-color: var(--fill-color);\n",
              "      border-top-color: var(--fill-color);\n",
              "      border-right-color: var(--fill-color);\n",
              "    }\n",
              "    40% {\n",
              "      border-color: transparent;\n",
              "      border-right-color: var(--fill-color);\n",
              "      border-top-color: var(--fill-color);\n",
              "    }\n",
              "    60% {\n",
              "      border-color: transparent;\n",
              "      border-right-color: var(--fill-color);\n",
              "    }\n",
              "    80% {\n",
              "      border-color: transparent;\n",
              "      border-right-color: var(--fill-color);\n",
              "      border-bottom-color: var(--fill-color);\n",
              "    }\n",
              "    90% {\n",
              "      border-color: transparent;\n",
              "      border-bottom-color: var(--fill-color);\n",
              "    }\n",
              "  }\n",
              "</style>\n",
              "\n",
              "  <script>\n",
              "    async function quickchart(key) {\n",
              "      const quickchartButtonEl =\n",
              "        document.querySelector('#' + key + ' button');\n",
              "      quickchartButtonEl.disabled = true;  // To prevent multiple clicks.\n",
              "      quickchartButtonEl.classList.add('colab-df-spinner');\n",
              "      try {\n",
              "        const charts = await google.colab.kernel.invokeFunction(\n",
              "            'suggestCharts', [key], {});\n",
              "      } catch (error) {\n",
              "        console.error('Error during call to suggestCharts:', error);\n",
              "      }\n",
              "      quickchartButtonEl.classList.remove('colab-df-spinner');\n",
              "      quickchartButtonEl.classList.add('colab-df-quickchart-complete');\n",
              "    }\n",
              "    (() => {\n",
              "      let quickchartButtonEl =\n",
              "        document.querySelector('#df-65b1c8a1-b4ff-4b5b-8cfc-c876647dda2f button');\n",
              "      quickchartButtonEl.style.display =\n",
              "        google.colab.kernel.accessAllowed ? 'block' : 'none';\n",
              "    })();\n",
              "  </script>\n",
              "</div>\n",
              "\n",
              "  <div id=\"id_310e40c9-463c-4341-8b3d-024e9e630636\">\n",
              "    <style>\n",
              "      .colab-df-generate {\n",
              "        background-color: #E8F0FE;\n",
              "        border: none;\n",
              "        border-radius: 50%;\n",
              "        cursor: pointer;\n",
              "        display: none;\n",
              "        fill: #1967D2;\n",
              "        height: 32px;\n",
              "        padding: 0 0 0 0;\n",
              "        width: 32px;\n",
              "      }\n",
              "\n",
              "      .colab-df-generate:hover {\n",
              "        background-color: #E2EBFA;\n",
              "        box-shadow: 0px 1px 2px rgba(60, 64, 67, 0.3), 0px 1px 3px 1px rgba(60, 64, 67, 0.15);\n",
              "        fill: #174EA6;\n",
              "      }\n",
              "\n",
              "      [theme=dark] .colab-df-generate {\n",
              "        background-color: #3B4455;\n",
              "        fill: #D2E3FC;\n",
              "      }\n",
              "\n",
              "      [theme=dark] .colab-df-generate:hover {\n",
              "        background-color: #434B5C;\n",
              "        box-shadow: 0px 1px 3px 1px rgba(0, 0, 0, 0.15);\n",
              "        filter: drop-shadow(0px 1px 2px rgba(0, 0, 0, 0.3));\n",
              "        fill: #FFFFFF;\n",
              "      }\n",
              "    </style>\n",
              "    <button class=\"colab-df-generate\" onclick=\"generateWithVariable('sdt1')\"\n",
              "            title=\"Generate code using this dataframe.\"\n",
              "            style=\"display:none;\">\n",
              "\n",
              "  <svg xmlns=\"http://www.w3.org/2000/svg\" height=\"24px\"viewBox=\"0 0 24 24\"\n",
              "       width=\"24px\">\n",
              "    <path d=\"M7,19H8.4L18.45,9,17,7.55,7,17.6ZM5,21V16.75L18.45,3.32a2,2,0,0,1,2.83,0l1.4,1.43a1.91,1.91,0,0,1,.58,1.4,1.91,1.91,0,0,1-.58,1.4L9.25,21ZM18.45,9,17,7.55Zm-12,3A5.31,5.31,0,0,0,4.9,8.1,5.31,5.31,0,0,0,1,6.5,5.31,5.31,0,0,0,4.9,4.9,5.31,5.31,0,0,0,6.5,1,5.31,5.31,0,0,0,8.1,4.9,5.31,5.31,0,0,0,12,6.5,5.46,5.46,0,0,0,6.5,12Z\"/>\n",
              "  </svg>\n",
              "    </button>\n",
              "    <script>\n",
              "      (() => {\n",
              "      const buttonEl =\n",
              "        document.querySelector('#id_310e40c9-463c-4341-8b3d-024e9e630636 button.colab-df-generate');\n",
              "      buttonEl.style.display =\n",
              "        google.colab.kernel.accessAllowed ? 'block' : 'none';\n",
              "\n",
              "      buttonEl.onclick = () => {\n",
              "        google.colab.notebook.generateWithVariable('sdt1');\n",
              "      }\n",
              "      })();\n",
              "    </script>\n",
              "  </div>\n",
              "\n",
              "    </div>\n",
              "  </div>\n"
            ],
            "application/vnd.google.colaboratory.intrinsic+json": {
              "type": "dataframe",
              "variable_name": "sdt1",
              "summary": "{\n  \"name\": \"sdt1\",\n  \"rows\": 5,\n  \"fields\": [\n    {\n      \"column\": 0,\n      \"properties\": {\n        \"dtype\": \"number\",\n        \"std\": 7.12930571654772,\n        \"min\": 4.1,\n        \"max\": 21.3,\n        \"num_unique_values\": 5,\n        \"samples\": [\n          15.5,\n          21.3,\n          9.0\n        ],\n        \"semantic_type\": \"\",\n        \"description\": \"\"\n      }\n    }\n  ]\n}"
            }
          },
          "metadata": {},
          "execution_count": 50
        }
      ]
    },
    {
      "cell_type": "code",
      "metadata": {
        "colab": {
          "base_uri": "https://localhost:8080/",
          "height": 204
        },
        "id": "kuAK61heZuQT",
        "outputId": "db8f3ccb-bdd7-46fc-9927-b57841d7f512"
      },
      "source": [
        "type(sdt1)"
      ],
      "execution_count": 51,
      "outputs": [
        {
          "output_type": "execute_result",
          "data": {
            "text/plain": [
              "pandas.core.frame.DataFrame"
            ],
            "text/html": [
              "<div style=\"max-width:800px; border: 1px solid var(--colab-border-color);\"><style>\n",
              "      pre.function-repr-contents {\n",
              "        overflow-x: auto;\n",
              "        padding: 8px 12px;\n",
              "        max-height: 500px;\n",
              "      }\n",
              "\n",
              "      pre.function-repr-contents.function-repr-contents-collapsed {\n",
              "        cursor: pointer;\n",
              "        max-height: 100px;\n",
              "      }\n",
              "    </style>\n",
              "    <pre style=\"white-space: initial; background:\n",
              "         var(--colab-secondary-surface-color); padding: 8px 12px;\n",
              "         border-bottom: 1px solid var(--colab-border-color);\"><b>pandas.core.frame.DataFrame</b><br/>def __init__(data=None, index: Axes | None=None, columns: Axes | None=None, dtype: Dtype | None=None, copy: bool | None=None) -&gt; None</pre><pre class=\"function-repr-contents function-repr-contents-collapsed\" style=\"\"><a class=\"filepath\" style=\"display:none\" href=\"#\">/usr/local/lib/python3.10/dist-packages/pandas/core/frame.py</a>Two-dimensional, size-mutable, potentially heterogeneous tabular data.\n",
              "\n",
              "Data structure also contains labeled axes (rows and columns).\n",
              "Arithmetic operations align on both row and column labels. Can be\n",
              "thought of as a dict-like container for Series objects. The primary\n",
              "pandas data structure.\n",
              "\n",
              "Parameters\n",
              "----------\n",
              "data : ndarray (structured or homogeneous), Iterable, dict, or DataFrame\n",
              "    Dict can contain Series, arrays, constants, dataclass or list-like objects. If\n",
              "    data is a dict, column order follows insertion-order. If a dict contains Series\n",
              "    which have an index defined, it is aligned by its index. This alignment also\n",
              "    occurs if data is a Series or a DataFrame itself. Alignment is done on\n",
              "    Series/DataFrame inputs.\n",
              "\n",
              "    If data is a list of dicts, column order follows insertion-order.\n",
              "\n",
              "index : Index or array-like\n",
              "    Index to use for resulting frame. Will default to RangeIndex if\n",
              "    no indexing information part of input data and no index provided.\n",
              "columns : Index or array-like\n",
              "    Column labels to use for resulting frame when data does not have them,\n",
              "    defaulting to RangeIndex(0, 1, 2, ..., n). If data contains column labels,\n",
              "    will perform column selection instead.\n",
              "dtype : dtype, default None\n",
              "    Data type to force. Only a single dtype is allowed. If None, infer.\n",
              "copy : bool or None, default None\n",
              "    Copy data from inputs.\n",
              "    For dict data, the default of None behaves like ``copy=True``.  For DataFrame\n",
              "    or 2d ndarray input, the default of None behaves like ``copy=False``.\n",
              "    If data is a dict containing one or more Series (possibly of different dtypes),\n",
              "    ``copy=False`` will ensure that these inputs are not copied.\n",
              "\n",
              "    .. versionchanged:: 1.3.0\n",
              "\n",
              "See Also\n",
              "--------\n",
              "DataFrame.from_records : Constructor from tuples, also record arrays.\n",
              "DataFrame.from_dict : From dicts of Series, arrays, or dicts.\n",
              "read_csv : Read a comma-separated values (csv) file into DataFrame.\n",
              "read_table : Read general delimited file into DataFrame.\n",
              "read_clipboard : Read text from clipboard into DataFrame.\n",
              "\n",
              "Notes\n",
              "-----\n",
              "Please reference the :ref:`User Guide &lt;basics.dataframe&gt;` for more information.\n",
              "\n",
              "Examples\n",
              "--------\n",
              "Constructing DataFrame from a dictionary.\n",
              "\n",
              "&gt;&gt;&gt; d = {&#x27;col1&#x27;: [1, 2], &#x27;col2&#x27;: [3, 4]}\n",
              "&gt;&gt;&gt; df = pd.DataFrame(data=d)\n",
              "&gt;&gt;&gt; df\n",
              "   col1  col2\n",
              "0     1     3\n",
              "1     2     4\n",
              "\n",
              "Notice that the inferred dtype is int64.\n",
              "\n",
              "&gt;&gt;&gt; df.dtypes\n",
              "col1    int64\n",
              "col2    int64\n",
              "dtype: object\n",
              "\n",
              "To enforce a single dtype:\n",
              "\n",
              "&gt;&gt;&gt; df = pd.DataFrame(data=d, dtype=np.int8)\n",
              "&gt;&gt;&gt; df.dtypes\n",
              "col1    int8\n",
              "col2    int8\n",
              "dtype: object\n",
              "\n",
              "Constructing DataFrame from a dictionary including Series:\n",
              "\n",
              "&gt;&gt;&gt; d = {&#x27;col1&#x27;: [0, 1, 2, 3], &#x27;col2&#x27;: pd.Series([2, 3], index=[2, 3])}\n",
              "&gt;&gt;&gt; pd.DataFrame(data=d, index=[0, 1, 2, 3])\n",
              "   col1  col2\n",
              "0     0   NaN\n",
              "1     1   NaN\n",
              "2     2   2.0\n",
              "3     3   3.0\n",
              "\n",
              "Constructing DataFrame from numpy ndarray:\n",
              "\n",
              "&gt;&gt;&gt; df2 = pd.DataFrame(np.array([[1, 2, 3], [4, 5, 6], [7, 8, 9]]),\n",
              "...                    columns=[&#x27;a&#x27;, &#x27;b&#x27;, &#x27;c&#x27;])\n",
              "&gt;&gt;&gt; df2\n",
              "   a  b  c\n",
              "0  1  2  3\n",
              "1  4  5  6\n",
              "2  7  8  9\n",
              "\n",
              "Constructing DataFrame from a numpy ndarray that has labeled columns:\n",
              "\n",
              "&gt;&gt;&gt; data = np.array([(1, 2, 3), (4, 5, 6), (7, 8, 9)],\n",
              "...                 dtype=[(&quot;a&quot;, &quot;i4&quot;), (&quot;b&quot;, &quot;i4&quot;), (&quot;c&quot;, &quot;i4&quot;)])\n",
              "&gt;&gt;&gt; df3 = pd.DataFrame(data, columns=[&#x27;c&#x27;, &#x27;a&#x27;])\n",
              "...\n",
              "&gt;&gt;&gt; df3\n",
              "   c  a\n",
              "0  3  1\n",
              "1  6  4\n",
              "2  9  7\n",
              "\n",
              "Constructing DataFrame from dataclass:\n",
              "\n",
              "&gt;&gt;&gt; from dataclasses import make_dataclass\n",
              "&gt;&gt;&gt; Point = make_dataclass(&quot;Point&quot;, [(&quot;x&quot;, int), (&quot;y&quot;, int)])\n",
              "&gt;&gt;&gt; pd.DataFrame([Point(0, 0), Point(0, 3), Point(2, 3)])\n",
              "   x  y\n",
              "0  0  0\n",
              "1  0  3\n",
              "2  2  3\n",
              "\n",
              "Constructing DataFrame from Series/DataFrame:\n",
              "\n",
              "&gt;&gt;&gt; ser = pd.Series([1, 2, 3], index=[&quot;a&quot;, &quot;b&quot;, &quot;c&quot;])\n",
              "&gt;&gt;&gt; df = pd.DataFrame(data=ser, index=[&quot;a&quot;, &quot;c&quot;])\n",
              "&gt;&gt;&gt; df\n",
              "   0\n",
              "a  1\n",
              "c  3\n",
              "\n",
              "&gt;&gt;&gt; df1 = pd.DataFrame([1, 2, 3], index=[&quot;a&quot;, &quot;b&quot;, &quot;c&quot;], columns=[&quot;x&quot;])\n",
              "&gt;&gt;&gt; df2 = pd.DataFrame(data=df1, index=[&quot;a&quot;, &quot;c&quot;])\n",
              "&gt;&gt;&gt; df2\n",
              "   x\n",
              "a  1\n",
              "c  3</pre>\n",
              "      <script>\n",
              "      if (google.colab.kernel.accessAllowed && google.colab.files && google.colab.files.view) {\n",
              "        for (const element of document.querySelectorAll('.filepath')) {\n",
              "          element.style.display = 'block'\n",
              "          element.onclick = (event) => {\n",
              "            event.preventDefault();\n",
              "            event.stopPropagation();\n",
              "            google.colab.files.view(element.textContent, 509);\n",
              "          };\n",
              "        }\n",
              "      }\n",
              "      for (const element of document.querySelectorAll('.function-repr-contents')) {\n",
              "        element.onclick = (event) => {\n",
              "          event.preventDefault();\n",
              "          event.stopPropagation();\n",
              "          element.classList.toggle('function-repr-contents-collapsed');\n",
              "        };\n",
              "      }\n",
              "      </script>\n",
              "      </div>"
            ]
          },
          "metadata": {},
          "execution_count": 51
        }
      ]
    },
    {
      "cell_type": "markdown",
      "metadata": {
        "id": "5otXQBjgCfxm"
      },
      "source": [
        "\n",
        "\n",
        "---\n",
        "## (해결문제)\n",
        "다음 인문대학의 추가 합격 후보 순위를 나타내는 딕션너리이다. 이 딕션너리를 판다스 시리즈로 변환하여 다음을 해결하시오.\n",
        "1. 딕션너리 시리즈로 변환\n",
        "2. 학과를 입력 받아서 해당학과의 후보순위, 단 입력종료 메시지를 추가하여 종료가 입력되지 않으면 계속 입력\n",
        "   * 결과예시)\n",
        "   ```\n",
        "    학과입력 =>\n",
        "일어학과\n",
        "해당 학과는 존재하지 않습니다.\n",
        "종료하시겠습니까?(종료:y)n\n",
        "학과입력 =>\n",
        "일어일문학과\n",
        "일어일문학과 추가 합격 순위 : 후보 8\n",
        "종료하시겠습니까?(종료:y)y\n",
        "  ```\n",
        "3. 후보순위가 3번 이하인 학과와 후보순위가 20번 이상인 학과 조회\n",
        "   * 조건식을 이용하는 방법\n",
        "   * 메소드를 이용하는 방법\n",
        "4. 평균 추가 합격 순위\n",
        "   * 출력예) 평균 추가 합격 순위 : 7위\n",
        "5. 학과 명칭대로 정렬하여 시리즈에 반영\n",
        ""
      ]
    },
    {
      "cell_type": "code",
      "metadata": {
        "id": "meuWOzumGhI4"
      },
      "source": [
        "dt = {'국어국문학과':7,\t'중어중문학과':4,\t'일어일문학과':8,\t'영어영문학과':30,\t'불어불문학과':5,\t'독어독문학과':4,\t'노어노문학과':5,\t'한문학과':6,\t'언어정보학과':3,\t'사학과':7,\t'철학과':5,\t'고고학과':9}"
      ],
      "execution_count": 52,
      "outputs": []
    },
    {
      "cell_type": "code",
      "metadata": {
        "colab": {
          "base_uri": "https://localhost:8080/"
        },
        "id": "m6XTp1l4JEHr",
        "outputId": "00c23e0e-0296-4ebd-d34b-a0d1d7c77be8"
      },
      "source": [
        "# 학과 후보순위\n",
        "sdt = pd.Series(dt, index=dt.keys())\n",
        "while True:\n",
        "  depart = input('학과입력 => \\n')\n",
        "  if depart not in sdt:\n",
        "    print('해당 학과는 존재하지 않습니다.')\n",
        "  else:\n",
        "    print(f'{depart} 추가 합격 순위 : 후보{sdt[depart]}')\n",
        "  end = input('종료하시겠습니까?(종료y)')\n",
        "  if end == 'y': break"
      ],
      "execution_count": 53,
      "outputs": [
        {
          "name": "stdout",
          "output_type": "stream",
          "text": [
            "학과입력 => \n",
            "국어국문학과\n",
            "국어국문학과 추가 합격 순위 : 후보7\n",
            "종료하시겠습니까?(종료y)y\n"
          ]
        }
      ]
    },
    {
      "cell_type": "code",
      "metadata": {
        "colab": {
          "base_uri": "https://localhost:8080/"
        },
        "id": "GupWYDqwJNbZ",
        "outputId": "33013263-0b04-47a8-942d-3f5e7d5d0277"
      },
      "source": [
        "# 후보순위가 3번 이하인 학과와 후보순위가 20번 이상인 학과 조회\n",
        "print(sdt[sdt.values >= 20])\n",
        "print(sdt[sdt.values <= 3])"
      ],
      "execution_count": 54,
      "outputs": [
        {
          "output_type": "stream",
          "name": "stdout",
          "text": [
            "영어영문학과    30\n",
            "dtype: int64\n",
            "언어정보학과    3\n",
            "dtype: int64\n"
          ]
        }
      ]
    },
    {
      "cell_type": "code",
      "metadata": {
        "colab": {
          "base_uri": "https://localhost:8080/"
        },
        "id": "4629Y849zscy",
        "outputId": "2ddb9d0d-128a-4415-b6d3-2aa52835be7f"
      },
      "source": [
        "print([sdt.values <= 3])"
      ],
      "execution_count": 55,
      "outputs": [
        {
          "output_type": "stream",
          "name": "stdout",
          "text": [
            "[array([False, False, False, False, False, False, False, False,  True,\n",
            "       False, False, False])]\n"
          ]
        }
      ]
    },
    {
      "cell_type": "code",
      "metadata": {
        "colab": {
          "base_uri": "https://localhost:8080/"
        },
        "id": "h29SMwL3zvXD",
        "outputId": "863c1077-3b43-4dc9-9904-17c84f4c61b3"
      },
      "source": [
        "print(sdt[sdt.values >= 20])"
      ],
      "execution_count": 57,
      "outputs": [
        {
          "output_type": "stream",
          "name": "stdout",
          "text": [
            "영어영문학과    30\n",
            "dtype: int64\n"
          ]
        }
      ]
    },
    {
      "cell_type": "code",
      "metadata": {
        "colab": {
          "base_uri": "https://localhost:8080/"
        },
        "id": "L2KvDt6VKT4Z",
        "outputId": "64fb3085-9eff-473d-ea01-522f93670e32"
      },
      "source": [
        "print(pd.concat([sdt[sdt.values <= 3], sdt[sdt.values >= 20]]))"
      ],
      "execution_count": 62,
      "outputs": [
        {
          "output_type": "stream",
          "name": "stdout",
          "text": [
            "언어정보학과     3\n",
            "영어영문학과    30\n",
            "dtype: int64\n"
          ]
        }
      ]
    },
    {
      "cell_type": "code",
      "metadata": {
        "colab": {
          "base_uri": "https://localhost:8080/"
        },
        "id": "DSNGbBI2Kw_l",
        "outputId": "1adcd368-31e2-44a7-9bbb-65a41d71146d"
      },
      "source": [
        "#평균 추가 합격 순위\n",
        "print(int(sdt.mean()))"
      ],
      "execution_count": 63,
      "outputs": [
        {
          "output_type": "stream",
          "name": "stdout",
          "text": [
            "7\n"
          ]
        }
      ]
    },
    {
      "cell_type": "code",
      "metadata": {
        "colab": {
          "base_uri": "https://localhost:8080/",
          "height": 460
        },
        "id": "IVaxfjTA0Unf",
        "outputId": "3234362b-3cd8-496f-ea0f-a05ec5a57f3d"
      },
      "source": [
        "sdt"
      ],
      "execution_count": 64,
      "outputs": [
        {
          "output_type": "execute_result",
          "data": {
            "text/plain": [
              "국어국문학과     7\n",
              "중어중문학과     4\n",
              "일어일문학과     8\n",
              "영어영문학과    30\n",
              "불어불문학과     5\n",
              "독어독문학과     4\n",
              "노어노문학과     5\n",
              "한문학과       6\n",
              "언어정보학과     3\n",
              "사학과        7\n",
              "철학과        5\n",
              "고고학과       9\n",
              "dtype: int64"
            ],
            "text/html": [
              "<div>\n",
              "<style scoped>\n",
              "    .dataframe tbody tr th:only-of-type {\n",
              "        vertical-align: middle;\n",
              "    }\n",
              "\n",
              "    .dataframe tbody tr th {\n",
              "        vertical-align: top;\n",
              "    }\n",
              "\n",
              "    .dataframe thead th {\n",
              "        text-align: right;\n",
              "    }\n",
              "</style>\n",
              "<table border=\"1\" class=\"dataframe\">\n",
              "  <thead>\n",
              "    <tr style=\"text-align: right;\">\n",
              "      <th></th>\n",
              "      <th>0</th>\n",
              "    </tr>\n",
              "  </thead>\n",
              "  <tbody>\n",
              "    <tr>\n",
              "      <th>국어국문학과</th>\n",
              "      <td>7</td>\n",
              "    </tr>\n",
              "    <tr>\n",
              "      <th>중어중문학과</th>\n",
              "      <td>4</td>\n",
              "    </tr>\n",
              "    <tr>\n",
              "      <th>일어일문학과</th>\n",
              "      <td>8</td>\n",
              "    </tr>\n",
              "    <tr>\n",
              "      <th>영어영문학과</th>\n",
              "      <td>30</td>\n",
              "    </tr>\n",
              "    <tr>\n",
              "      <th>불어불문학과</th>\n",
              "      <td>5</td>\n",
              "    </tr>\n",
              "    <tr>\n",
              "      <th>독어독문학과</th>\n",
              "      <td>4</td>\n",
              "    </tr>\n",
              "    <tr>\n",
              "      <th>노어노문학과</th>\n",
              "      <td>5</td>\n",
              "    </tr>\n",
              "    <tr>\n",
              "      <th>한문학과</th>\n",
              "      <td>6</td>\n",
              "    </tr>\n",
              "    <tr>\n",
              "      <th>언어정보학과</th>\n",
              "      <td>3</td>\n",
              "    </tr>\n",
              "    <tr>\n",
              "      <th>사학과</th>\n",
              "      <td>7</td>\n",
              "    </tr>\n",
              "    <tr>\n",
              "      <th>철학과</th>\n",
              "      <td>5</td>\n",
              "    </tr>\n",
              "    <tr>\n",
              "      <th>고고학과</th>\n",
              "      <td>9</td>\n",
              "    </tr>\n",
              "  </tbody>\n",
              "</table>\n",
              "</div><br><label><b>dtype:</b> int64</label>"
            ]
          },
          "metadata": {},
          "execution_count": 64
        }
      ]
    },
    {
      "cell_type": "code",
      "metadata": {
        "colab": {
          "base_uri": "https://localhost:8080/",
          "height": 460
        },
        "id": "NKNV4QorLIY9",
        "outputId": "1e941aad-40f2-4800-dee3-5c07c8d93a83"
      },
      "source": [
        "#학과 명칭대로 정렬\n",
        "sdt.sort_index()"
      ],
      "execution_count": 65,
      "outputs": [
        {
          "output_type": "execute_result",
          "data": {
            "text/plain": [
              "고고학과       9\n",
              "국어국문학과     7\n",
              "노어노문학과     5\n",
              "독어독문학과     4\n",
              "불어불문학과     5\n",
              "사학과        7\n",
              "언어정보학과     3\n",
              "영어영문학과    30\n",
              "일어일문학과     8\n",
              "중어중문학과     4\n",
              "철학과        5\n",
              "한문학과       6\n",
              "dtype: int64"
            ],
            "text/html": [
              "<div>\n",
              "<style scoped>\n",
              "    .dataframe tbody tr th:only-of-type {\n",
              "        vertical-align: middle;\n",
              "    }\n",
              "\n",
              "    .dataframe tbody tr th {\n",
              "        vertical-align: top;\n",
              "    }\n",
              "\n",
              "    .dataframe thead th {\n",
              "        text-align: right;\n",
              "    }\n",
              "</style>\n",
              "<table border=\"1\" class=\"dataframe\">\n",
              "  <thead>\n",
              "    <tr style=\"text-align: right;\">\n",
              "      <th></th>\n",
              "      <th>0</th>\n",
              "    </tr>\n",
              "  </thead>\n",
              "  <tbody>\n",
              "    <tr>\n",
              "      <th>고고학과</th>\n",
              "      <td>9</td>\n",
              "    </tr>\n",
              "    <tr>\n",
              "      <th>국어국문학과</th>\n",
              "      <td>7</td>\n",
              "    </tr>\n",
              "    <tr>\n",
              "      <th>노어노문학과</th>\n",
              "      <td>5</td>\n",
              "    </tr>\n",
              "    <tr>\n",
              "      <th>독어독문학과</th>\n",
              "      <td>4</td>\n",
              "    </tr>\n",
              "    <tr>\n",
              "      <th>불어불문학과</th>\n",
              "      <td>5</td>\n",
              "    </tr>\n",
              "    <tr>\n",
              "      <th>사학과</th>\n",
              "      <td>7</td>\n",
              "    </tr>\n",
              "    <tr>\n",
              "      <th>언어정보학과</th>\n",
              "      <td>3</td>\n",
              "    </tr>\n",
              "    <tr>\n",
              "      <th>영어영문학과</th>\n",
              "      <td>30</td>\n",
              "    </tr>\n",
              "    <tr>\n",
              "      <th>일어일문학과</th>\n",
              "      <td>8</td>\n",
              "    </tr>\n",
              "    <tr>\n",
              "      <th>중어중문학과</th>\n",
              "      <td>4</td>\n",
              "    </tr>\n",
              "    <tr>\n",
              "      <th>철학과</th>\n",
              "      <td>5</td>\n",
              "    </tr>\n",
              "    <tr>\n",
              "      <th>한문학과</th>\n",
              "      <td>6</td>\n",
              "    </tr>\n",
              "  </tbody>\n",
              "</table>\n",
              "</div><br><label><b>dtype:</b> int64</label>"
            ]
          },
          "metadata": {},
          "execution_count": 65
        }
      ]
    },
    {
      "cell_type": "code",
      "metadata": {
        "colab": {
          "base_uri": "https://localhost:8080/"
        },
        "id": "Ddfc1hQk0HXo",
        "outputId": "9f4f497c-a2b2-4211-bd7d-d0f0fa7f0be3"
      },
      "source": [
        "sdt = sdt.sort_index()\n",
        "print(sdt)"
      ],
      "execution_count": 66,
      "outputs": [
        {
          "output_type": "stream",
          "name": "stdout",
          "text": [
            "고고학과       9\n",
            "국어국문학과     7\n",
            "노어노문학과     5\n",
            "독어독문학과     4\n",
            "불어불문학과     5\n",
            "사학과        7\n",
            "언어정보학과     3\n",
            "영어영문학과    30\n",
            "일어일문학과     8\n",
            "중어중문학과     4\n",
            "철학과        5\n",
            "한문학과       6\n",
            "dtype: int64\n"
          ]
        }
      ]
    }
  ]
}