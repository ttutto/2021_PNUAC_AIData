{
  "nbformat": 4,
  "nbformat_minor": 0,
  "metadata": {
    "accelerator": "GPU",
    "colab": {
      "name": "mlp_model_validation.ipynb의 사본",
      "provenance": [],
      "collapsed_sections": []
    },
    "kernelspec": {
      "display_name": "Python 3",
      "language": "python",
      "name": "python3"
    },
    "language_info": {
      "codemirror_mode": {
        "name": "ipython",
        "version": 3
      },
      "file_extension": ".py",
      "mimetype": "text/x-python",
      "name": "python",
      "nbconvert_exporter": "python",
      "pygments_lexer": "ipython3",
      "version": "3.6.10"
    }
  },
  "cells": [
    {
      "cell_type": "markdown",
      "metadata": {
        "id": "L3eSKOAdn7Uw"
      },
      "source": [
        "필요한 패키지를 가져옵니다."
      ]
    },
    {
      "cell_type": "code",
      "metadata": {
        "id": "-XAyceMYvow8"
      },
      "source": [
        "import numpy as np\n",
        "import matplotlib.pyplot as plt\n",
        "\n",
        "from tensorflow.keras.models import Sequential, load_model\n",
        "from tensorflow.keras.layers import Dense\n",
        "from tensorflow.keras.callbacks import ModelCheckpoint\n",
        "from tensorflow.keras.utils import plot_model, to_categorical\n",
        "from tensorflow.keras.datasets import mnist"
      ],
      "execution_count": 2,
      "outputs": []
    },
    {
      "cell_type": "markdown",
      "metadata": {
        "id": "hRfuOMk0n7Uw"
      },
      "source": [
        "숫자 솔글씨 데이터셋을 불러옵니다. "
      ]
    },
    {
      "cell_type": "code",
      "metadata": {
        "colab": {
          "base_uri": "https://localhost:8080/"
        },
        "id": "nKPyUcYouz_8",
        "outputId": "7863b8c3-88f2-4b79-a2e2-3d3078f977ec"
      },
      "source": [
        "(x_train, y_train), (x_test, y_test) = mnist.load_data()\n",
        "\n",
        "print('x_train shape : ' + str(x_train.shape))\n",
        "print('y_train shape : ' + str(y_train.shape))\n",
        "print('x_test shape : ' + str(x_test.shape))\n",
        "print('y_test shape : ' + str(y_test.shape))"
      ],
      "execution_count": 3,
      "outputs": [
        {
          "output_type": "stream",
          "text": [
            "Downloading data from https://storage.googleapis.com/tensorflow/tf-keras-datasets/mnist.npz\n",
            "11493376/11490434 [==============================] - 0s 0us/step\n",
            "x_train shape : (60000, 28, 28)\n",
            "y_train shape : (60000,)\n",
            "x_test shape : (10000, 28, 28)\n",
            "y_test shape : (10000,)\n"
          ],
          "name": "stdout"
        }
      ]
    },
    {
      "cell_type": "markdown",
      "metadata": {
        "id": "1MRgyIo7VDTm"
      },
      "source": [
        "테스트할 샘플 하나를 살펴봅니다."
      ]
    },
    {
      "cell_type": "code",
      "metadata": {
        "colab": {
          "base_uri": "https://localhost:8080/",
          "height": 283
        },
        "id": "M5dzhF1mVHpX",
        "outputId": "497a362d-bdc2-4b01-b258-bdfe5fc6ed1f"
      },
      "source": [
        "plt.imshow(x_test[0], cmap='gray')"
      ],
      "execution_count": 4,
      "outputs": [
        {
          "output_type": "execute_result",
          "data": {
            "text/plain": [
              "<matplotlib.image.AxesImage at 0x7fb0606d5250>"
            ]
          },
          "metadata": {
            "tags": []
          },
          "execution_count": 4
        },
        {
          "output_type": "display_data",
          "data": {
            "image/png": "[encoded data removed]",
            "text/plain": [
              "<Figure size 432x288 with 1 Axes>"
            ]
          },
          "metadata": {
            "tags": [],
            "needs_background": "light"
          }
        }
      ]
    },
    {
      "cell_type": "markdown",
      "metadata": {
        "id": "59TzdRYXai74"
      },
      "source": [
        "인공지능 모델이 이 이미지를 입력받았을 때, 해당하는 숫자를 출력할 수 있도록 만드는 것이 목표입니다. 우리는 y_test 라벨값도 가지고 있어서 바로 확인은 할 수 있으나, 모델 학습 시에는 사용이 되지 않으며, 시험 평가할 때만 사용됩니다."
      ]
    },
    {
      "cell_type": "code",
      "metadata": {
        "colab": {
          "base_uri": "https://localhost:8080/"
        },
        "id": "pfFSxqevajVW",
        "outputId": "b269200c-f512-4873-c273-58bc7a9c3d8d"
      },
      "source": [
        "print(y_test[0])"
      ],
      "execution_count": 5,
      "outputs": [
        {
          "output_type": "stream",
          "text": [
            "7\n"
          ],
          "name": "stdout"
        }
      ]
    },
    {
      "cell_type": "markdown",
      "metadata": {
        "id": "GMiJUbcHn7Ux"
      },
      "source": [
        "모델 학습에 용이하도록 다음과 같이 데이터 전처리를 수행합니다.\n",
        "\n",
        "*   데이터 전처리\n",
        "    * 3차원(샘플수, 세로, 가로)를 2차원(샘플수, 벡터수)으로 변경\n",
        "    * 정수를 실수로 변경\n",
        "    * 0 ~ 255 사이의 수치를 0.0 ~ 1.0 사이로 정규화 수행\n",
        "*   라벨 전처리\n",
        "    * 0 ~ 9 라벨에 대한 원핫인코딩 수행 \n",
        "\n"
      ]
    },
    {
      "cell_type": "code",
      "metadata": {
        "id": "-Tq2r8mKB9RC"
      },
      "source": [
        "x_train = x_train.reshape(60000, 784).astype('float32') / 255.0\n",
        "x_test = x_test.reshape(10000, 784).astype('float32') / 255.0\n",
        "y_train = to_categorical(y_train)\n",
        "y_test = to_categorical(y_test)"
      ],
      "execution_count": 6,
      "outputs": []
    },
    {
      "cell_type": "markdown",
      "metadata": {
        "id": "WQ6ok1F3n7Ux"
      },
      "source": [
        "모델은 다음과 같이 구성하였습니다.\n",
        "\n",
        "* 입력: 1차원의 784개 벡터\n",
        "* 출력: 10개 벡터\n",
        "* 출력층의 활성화 함수: 소프트맥스\n",
        "* 손실함수: categorical_crossentropy\n",
        "* 최적화기: adam\n",
        "* 평가 메트릭: accuracy\n"
      ]
    },
    {
      "cell_type": "code",
      "metadata": {
        "id": "_SXTk3Twv9Qc"
      },
      "source": [
        "model = Sequential([\n",
        "    Dense(64, input_dim=28*28, activation='relu'), \n",
        "    Dense(32, activation='relu'), \n",
        "    Dense(10, activation='softmax')\n",
        "])\n",
        "\n",
        "model.compile(loss='categorical_crossentropy', optimizer='adam', metrics=['accuracy'])"
      ],
      "execution_count": 7,
      "outputs": []
    },
    {
      "cell_type": "markdown",
      "metadata": {
        "id": "7C7XabvDn7Ux"
      },
      "source": [
        "모델 네트워크 아키텍처 구성을 그려보겠습니다."
      ]
    },
    {
      "cell_type": "code",
      "metadata": {
        "colab": {
          "base_uri": "https://localhost:8080/",
          "height": 422
        },
        "id": "xFLTw6eln7Ux",
        "outputId": "e02bc0ba-1fc4-49dc-e412-5471a35da488"
      },
      "source": [
        "plot_model(model, show_shapes=True)"
      ],
      "execution_count": 8,
      "outputs": [
        {
          "output_type": "execute_result",
          "data": {
            "image/png": "[encoded data removed]",
            "text/plain": [
              "<IPython.core.display.Image object>"
            ]
          },
          "metadata": {
            "tags": []
          },
          "execution_count": 8
        }
      ]
    },
    {
      "cell_type": "markdown",
      "metadata": {
        "id": "iH75hSGrn7Ux"
      },
      "source": [
        "모델을 학습시킬 때, validation_split 옵션을 두면 훈련셋 일부를 검증셋으로 설정할 수 있습니다. 0.2로 설정할 경우, 전체 훈련셋에서 20%를 검증셋, 나머지를 훈련셋으로 구성하여 학습합니다."
      ]
    },
    {
      "cell_type": "code",
      "metadata": {
        "colab": {
          "base_uri": "https://localhost:8080/"
        },
        "id": "UDORhU0WvvG-",
        "outputId": "8b2cd00a-52bb-4a3d-a7e3-c99037ec4866"
      },
      "source": [
        "hist = model.fit(x_train, y_train, \n",
        "                 validation_split=0.2, \n",
        "                 batch_size=32,\n",
        "                 epochs=100)"
      ],
      "execution_count": 9,
      "outputs": [
        {
          "output_type": "stream",
          "text": [
            "Epoch 1/100\n",
            "1500/1500 [==============================] - 7s 3ms/step - loss: 0.3305 - accuracy: 0.9004 - val_loss: 0.1693 - val_accuracy: 0.9523\n",
            "Epoch 2/100\n",
            "1500/1500 [==============================] - 4s 3ms/step - loss: 0.1482 - accuracy: 0.9552 - val_loss: 0.1308 - val_accuracy: 0.9600\n",
            "Epoch 3/100\n",
            "1500/1500 [==============================] - 4s 2ms/step - loss: 0.1074 - accuracy: 0.9676 - val_loss: 0.1269 - val_accuracy: 0.9628\n",
            "Epoch 4/100\n",
            "1500/1500 [==============================] - 4s 2ms/step - loss: 0.0839 - accuracy: 0.9742 - val_loss: 0.1130 - val_accuracy: 0.9679\n",
            "Epoch 5/100\n",
            "1500/1500 [==============================] - 4s 2ms/step - loss: 0.0695 - accuracy: 0.9783 - val_loss: 0.1097 - val_accuracy: 0.9681\n",
            "Epoch 6/100\n",
            "1500/1500 [==============================] - 3s 2ms/step - loss: 0.0571 - accuracy: 0.9813 - val_loss: 0.1152 - val_accuracy: 0.9678\n",
            "Epoch 7/100\n",
            "1500/1500 [==============================] - 4s 2ms/step - loss: 0.0491 - accuracy: 0.9840 - val_loss: 0.1045 - val_accuracy: 0.9700\n",
            "Epoch 8/100\n",
            "1500/1500 [==============================] - 4s 2ms/step - loss: 0.0424 - accuracy: 0.9865 - val_loss: 0.1153 - val_accuracy: 0.9711\n",
            "Epoch 9/100\n",
            "1500/1500 [==============================] - 3s 2ms/step - loss: 0.0374 - accuracy: 0.9878 - val_loss: 0.1068 - val_accuracy: 0.9711\n",
            "Epoch 10/100\n",
            "1500/1500 [==============================] - 3s 2ms/step - loss: 0.0319 - accuracy: 0.9897 - val_loss: 0.1127 - val_accuracy: 0.9728\n",
            "Epoch 11/100\n",
            "1500/1500 [==============================] - 4s 2ms/step - loss: 0.0261 - accuracy: 0.9913 - val_loss: 0.1136 - val_accuracy: 0.9733\n",
            "Epoch 12/100\n",
            "1500/1500 [==============================] - 4s 2ms/step - loss: 0.0246 - accuracy: 0.9920 - val_loss: 0.1195 - val_accuracy: 0.9733\n",
            "Epoch 13/100\n",
            "1500/1500 [==============================] - 4s 2ms/step - loss: 0.0214 - accuracy: 0.9928 - val_loss: 0.1375 - val_accuracy: 0.9698\n",
            "Epoch 14/100\n",
            "1500/1500 [==============================] - 4s 2ms/step - loss: 0.0187 - accuracy: 0.9937 - val_loss: 0.1327 - val_accuracy: 0.9708\n",
            "Epoch 15/100\n",
            "1500/1500 [==============================] - 3s 2ms/step - loss: 0.0182 - accuracy: 0.9936 - val_loss: 0.1442 - val_accuracy: 0.9718\n",
            "Epoch 16/100\n",
            "1500/1500 [==============================] - 3s 2ms/step - loss: 0.0170 - accuracy: 0.9938 - val_loss: 0.1454 - val_accuracy: 0.9726\n",
            "Epoch 17/100\n",
            "1500/1500 [==============================] - 4s 2ms/step - loss: 0.0133 - accuracy: 0.9955 - val_loss: 0.1351 - val_accuracy: 0.9735\n",
            "Epoch 18/100\n",
            "1500/1500 [==============================] - 3s 2ms/step - loss: 0.0163 - accuracy: 0.9944 - val_loss: 0.1369 - val_accuracy: 0.9737\n",
            "Epoch 19/100\n",
            "1500/1500 [==============================] - 4s 2ms/step - loss: 0.0130 - accuracy: 0.9956 - val_loss: 0.1400 - val_accuracy: 0.9735\n",
            "Epoch 20/100\n",
            "1500/1500 [==============================] - 4s 2ms/step - loss: 0.0103 - accuracy: 0.9966 - val_loss: 0.1438 - val_accuracy: 0.9734\n",
            "Epoch 21/100\n",
            "1500/1500 [==============================] - 4s 2ms/step - loss: 0.0133 - accuracy: 0.9954 - val_loss: 0.1552 - val_accuracy: 0.9732\n",
            "Epoch 22/100\n",
            "1500/1500 [==============================] - 4s 2ms/step - loss: 0.0121 - accuracy: 0.9956 - val_loss: 0.1829 - val_accuracy: 0.9692\n",
            "Epoch 23/100\n",
            "1500/1500 [==============================] - 4s 2ms/step - loss: 0.0130 - accuracy: 0.9956 - val_loss: 0.1514 - val_accuracy: 0.9725\n",
            "Epoch 24/100\n",
            "1500/1500 [==============================] - 4s 3ms/step - loss: 0.0074 - accuracy: 0.9977 - val_loss: 0.1688 - val_accuracy: 0.9699\n",
            "Epoch 25/100\n",
            "1500/1500 [==============================] - 4s 2ms/step - loss: 0.0105 - accuracy: 0.9963 - val_loss: 0.1846 - val_accuracy: 0.9711\n",
            "Epoch 26/100\n",
            "1500/1500 [==============================] - 4s 2ms/step - loss: 0.0118 - accuracy: 0.9964 - val_loss: 0.1696 - val_accuracy: 0.9743\n",
            "Epoch 27/100\n",
            "1500/1500 [==============================] - 4s 2ms/step - loss: 0.0096 - accuracy: 0.9967 - val_loss: 0.1627 - val_accuracy: 0.9743\n",
            "Epoch 28/100\n",
            "1500/1500 [==============================] - 3s 2ms/step - loss: 0.0106 - accuracy: 0.9967 - val_loss: 0.1772 - val_accuracy: 0.9705\n",
            "Epoch 29/100\n",
            "1500/1500 [==============================] - 4s 2ms/step - loss: 0.0077 - accuracy: 0.9973 - val_loss: 0.1761 - val_accuracy: 0.9747\n",
            "Epoch 30/100\n",
            "1500/1500 [==============================] - 4s 2ms/step - loss: 0.0084 - accuracy: 0.9972 - val_loss: 0.1662 - val_accuracy: 0.9756\n",
            "Epoch 31/100\n",
            "1500/1500 [==============================] - 3s 2ms/step - loss: 0.0074 - accuracy: 0.9975 - val_loss: 0.1861 - val_accuracy: 0.9713\n",
            "Epoch 32/100\n",
            "1500/1500 [==============================] - 3s 2ms/step - loss: 0.0118 - accuracy: 0.9966 - val_loss: 0.1926 - val_accuracy: 0.9731\n",
            "Epoch 33/100\n",
            "1500/1500 [==============================] - 3s 2ms/step - loss: 0.0083 - accuracy: 0.9970 - val_loss: 0.2026 - val_accuracy: 0.9712\n",
            "Epoch 34/100\n",
            "1500/1500 [==============================] - 4s 2ms/step - loss: 0.0062 - accuracy: 0.9979 - val_loss: 0.1986 - val_accuracy: 0.9732\n",
            "Epoch 35/100\n",
            "1500/1500 [==============================] - 3s 2ms/step - loss: 0.0086 - accuracy: 0.9975 - val_loss: 0.1847 - val_accuracy: 0.9738\n",
            "Epoch 36/100\n",
            "1500/1500 [==============================] - 4s 2ms/step - loss: 0.0094 - accuracy: 0.9971 - val_loss: 0.2024 - val_accuracy: 0.9709\n",
            "Epoch 37/100\n",
            "1500/1500 [==============================] - 4s 2ms/step - loss: 0.0058 - accuracy: 0.9982 - val_loss: 0.2064 - val_accuracy: 0.9728\n",
            "Epoch 38/100\n",
            "1500/1500 [==============================] - 4s 2ms/step - loss: 0.0093 - accuracy: 0.9970 - val_loss: 0.1889 - val_accuracy: 0.9747\n",
            "Epoch 39/100\n",
            "1500/1500 [==============================] - 4s 3ms/step - loss: 0.0087 - accuracy: 0.9973 - val_loss: 0.2028 - val_accuracy: 0.9730\n",
            "Epoch 40/100\n",
            "1500/1500 [==============================] - 4s 2ms/step - loss: 0.0045 - accuracy: 0.9983 - val_loss: 0.2006 - val_accuracy: 0.9747\n",
            "Epoch 41/100\n",
            "1500/1500 [==============================] - 4s 2ms/step - loss: 0.0097 - accuracy: 0.9967 - val_loss: 0.2031 - val_accuracy: 0.9728\n",
            "Epoch 42/100\n",
            "1500/1500 [==============================] - 4s 2ms/step - loss: 0.0041 - accuracy: 0.9987 - val_loss: 0.1954 - val_accuracy: 0.9743\n",
            "Epoch 43/100\n",
            "1500/1500 [==============================] - 4s 2ms/step - loss: 0.0086 - accuracy: 0.9972 - val_loss: 0.2040 - val_accuracy: 0.9754\n",
            "Epoch 44/100\n",
            "1500/1500 [==============================] - 3s 2ms/step - loss: 0.0078 - accuracy: 0.9972 - val_loss: 0.2277 - val_accuracy: 0.9720\n",
            "Epoch 45/100\n",
            "1500/1500 [==============================] - 4s 2ms/step - loss: 0.0064 - accuracy: 0.9981 - val_loss: 0.2325 - val_accuracy: 0.9721\n",
            "Epoch 46/100\n",
            "1500/1500 [==============================] - 3s 2ms/step - loss: 0.0086 - accuracy: 0.9976 - val_loss: 0.2783 - val_accuracy: 0.9697\n",
            "Epoch 47/100\n",
            "1500/1500 [==============================] - 3s 2ms/step - loss: 0.0065 - accuracy: 0.9982 - val_loss: 0.2464 - val_accuracy: 0.9707\n",
            "Epoch 48/100\n",
            "1500/1500 [==============================] - 4s 2ms/step - loss: 0.0072 - accuracy: 0.9979 - val_loss: 0.2260 - val_accuracy: 0.9722\n",
            "Epoch 49/100\n",
            "1500/1500 [==============================] - 4s 2ms/step - loss: 0.0066 - accuracy: 0.9977 - val_loss: 0.2439 - val_accuracy: 0.9711\n",
            "Epoch 50/100\n",
            "1500/1500 [==============================] - 3s 2ms/step - loss: 0.0045 - accuracy: 0.9983 - val_loss: 0.2357 - val_accuracy: 0.9728\n",
            "Epoch 51/100\n",
            "1500/1500 [==============================] - 3s 2ms/step - loss: 0.0069 - accuracy: 0.9979 - val_loss: 0.2295 - val_accuracy: 0.9735\n",
            "Epoch 52/100\n",
            "1500/1500 [==============================] - 3s 2ms/step - loss: 0.0072 - accuracy: 0.9978 - val_loss: 0.2368 - val_accuracy: 0.9733\n",
            "Epoch 53/100\n",
            "1500/1500 [==============================] - 3s 2ms/step - loss: 0.0067 - accuracy: 0.9977 - val_loss: 0.2635 - val_accuracy: 0.9727\n",
            "Epoch 54/100\n",
            "1500/1500 [==============================] - 4s 2ms/step - loss: 0.0081 - accuracy: 0.9976 - val_loss: 0.2651 - val_accuracy: 0.9712\n",
            "Epoch 55/100\n",
            "1500/1500 [==============================] - 4s 2ms/step - loss: 0.0065 - accuracy: 0.9980 - val_loss: 0.2412 - val_accuracy: 0.9744\n",
            "Epoch 56/100\n",
            "1500/1500 [==============================] - 4s 2ms/step - loss: 0.0052 - accuracy: 0.9981 - val_loss: 0.2617 - val_accuracy: 0.9727\n",
            "Epoch 57/100\n",
            "1500/1500 [==============================] - 4s 2ms/step - loss: 0.0079 - accuracy: 0.9973 - val_loss: 0.2661 - val_accuracy: 0.9716\n",
            "Epoch 58/100\n",
            "1500/1500 [==============================] - 4s 2ms/step - loss: 0.0060 - accuracy: 0.9983 - val_loss: 0.2679 - val_accuracy: 0.9707\n",
            "Epoch 59/100\n",
            "1500/1500 [==============================] - 4s 2ms/step - loss: 0.0063 - accuracy: 0.9982 - val_loss: 0.2724 - val_accuracy: 0.9714\n",
            "Epoch 60/100\n",
            "1500/1500 [==============================] - 4s 2ms/step - loss: 0.0061 - accuracy: 0.9980 - val_loss: 0.2439 - val_accuracy: 0.9750\n",
            "Epoch 61/100\n",
            "1500/1500 [==============================] - 4s 2ms/step - loss: 0.0044 - accuracy: 0.9987 - val_loss: 0.2579 - val_accuracy: 0.9728\n",
            "Epoch 62/100\n",
            "1500/1500 [==============================] - 4s 2ms/step - loss: 0.0066 - accuracy: 0.9976 - val_loss: 0.2502 - val_accuracy: 0.9758\n",
            "Epoch 63/100\n",
            "1500/1500 [==============================] - 3s 2ms/step - loss: 0.0070 - accuracy: 0.9979 - val_loss: 0.2735 - val_accuracy: 0.9736\n",
            "Epoch 64/100\n",
            "1500/1500 [==============================] - 3s 2ms/step - loss: 0.0061 - accuracy: 0.9981 - val_loss: 0.2663 - val_accuracy: 0.9722\n",
            "Epoch 65/100\n",
            "1500/1500 [==============================] - 3s 2ms/step - loss: 0.0034 - accuracy: 0.9990 - val_loss: 0.2496 - val_accuracy: 0.9751\n",
            "Epoch 66/100\n",
            "1500/1500 [==============================] - 3s 2ms/step - loss: 0.0041 - accuracy: 0.9988 - val_loss: 0.2892 - val_accuracy: 0.9692\n",
            "Epoch 67/100\n",
            "1500/1500 [==============================] - 4s 2ms/step - loss: 0.0116 - accuracy: 0.9969 - val_loss: 0.2627 - val_accuracy: 0.9728\n",
            "Epoch 68/100\n",
            "1500/1500 [==============================] - 3s 2ms/step - loss: 0.0037 - accuracy: 0.9988 - val_loss: 0.2917 - val_accuracy: 0.9713\n",
            "Epoch 69/100\n",
            "1500/1500 [==============================] - 4s 2ms/step - loss: 0.0048 - accuracy: 0.9984 - val_loss: 0.2840 - val_accuracy: 0.9725\n",
            "Epoch 70/100\n",
            "1500/1500 [==============================] - 4s 2ms/step - loss: 0.0045 - accuracy: 0.9986 - val_loss: 0.2865 - val_accuracy: 0.9720\n",
            "Epoch 71/100\n",
            "1500/1500 [==============================] - 4s 2ms/step - loss: 0.0047 - accuracy: 0.9983 - val_loss: 0.2896 - val_accuracy: 0.9718\n",
            "Epoch 72/100\n",
            "1500/1500 [==============================] - 4s 2ms/step - loss: 0.0057 - accuracy: 0.9984 - val_loss: 0.2929 - val_accuracy: 0.9719\n",
            "Epoch 73/100\n",
            "1500/1500 [==============================] - 4s 2ms/step - loss: 0.0047 - accuracy: 0.9985 - val_loss: 0.3413 - val_accuracy: 0.9703\n",
            "Epoch 74/100\n",
            "1500/1500 [==============================] - 4s 2ms/step - loss: 0.0050 - accuracy: 0.9983 - val_loss: 0.2793 - val_accuracy: 0.9731\n",
            "Epoch 75/100\n",
            "1500/1500 [==============================] - 4s 3ms/step - loss: 0.0067 - accuracy: 0.9981 - val_loss: 0.2734 - val_accuracy: 0.9720\n",
            "Epoch 76/100\n",
            "1500/1500 [==============================] - 4s 3ms/step - loss: 0.0032 - accuracy: 0.9991 - val_loss: 0.2557 - val_accuracy: 0.9752\n",
            "Epoch 77/100\n",
            "1500/1500 [==============================] - 4s 2ms/step - loss: 0.0053 - accuracy: 0.9985 - val_loss: 0.2906 - val_accuracy: 0.9729\n",
            "Epoch 78/100\n",
            "1500/1500 [==============================] - 4s 2ms/step - loss: 0.0070 - accuracy: 0.9981 - val_loss: 0.2800 - val_accuracy: 0.9733\n",
            "Epoch 79/100\n",
            "1500/1500 [==============================] - 4s 2ms/step - loss: 0.0058 - accuracy: 0.9985 - val_loss: 0.3538 - val_accuracy: 0.9693\n",
            "Epoch 80/100\n",
            "1500/1500 [==============================] - 4s 2ms/step - loss: 0.0044 - accuracy: 0.9986 - val_loss: 0.3099 - val_accuracy: 0.9744\n",
            "Epoch 81/100\n",
            "1500/1500 [==============================] - 3s 2ms/step - loss: 0.0065 - accuracy: 0.9981 - val_loss: 0.2916 - val_accuracy: 0.9735\n",
            "Epoch 82/100\n",
            "1500/1500 [==============================] - 3s 2ms/step - loss: 0.0044 - accuracy: 0.9986 - val_loss: 0.3045 - val_accuracy: 0.9726\n",
            "Epoch 83/100\n",
            "1500/1500 [==============================] - 4s 2ms/step - loss: 0.0038 - accuracy: 0.9991 - val_loss: 0.3210 - val_accuracy: 0.9698\n",
            "Epoch 84/100\n",
            "1500/1500 [==============================] - 4s 3ms/step - loss: 0.0070 - accuracy: 0.9981 - val_loss: 0.3215 - val_accuracy: 0.9726\n",
            "Epoch 85/100\n",
            "1500/1500 [==============================] - 4s 2ms/step - loss: 0.0059 - accuracy: 0.9985 - val_loss: 0.3068 - val_accuracy: 0.9732\n",
            "Epoch 86/100\n",
            "1500/1500 [==============================] - 4s 3ms/step - loss: 0.0041 - accuracy: 0.9989 - val_loss: 0.3541 - val_accuracy: 0.9694\n",
            "Epoch 87/100\n",
            "1500/1500 [==============================] - 4s 3ms/step - loss: 0.0042 - accuracy: 0.9988 - val_loss: 0.3129 - val_accuracy: 0.9731\n",
            "Epoch 88/100\n",
            "1500/1500 [==============================] - 4s 3ms/step - loss: 0.0071 - accuracy: 0.9981 - val_loss: 0.3156 - val_accuracy: 0.9726\n",
            "Epoch 89/100\n",
            "1500/1500 [==============================] - 4s 2ms/step - loss: 0.0072 - accuracy: 0.9983 - val_loss: 0.3262 - val_accuracy: 0.9716\n",
            "Epoch 90/100\n",
            "1500/1500 [==============================] - 4s 2ms/step - loss: 0.0024 - accuracy: 0.9994 - val_loss: 0.2787 - val_accuracy: 0.9752\n",
            "Epoch 91/100\n",
            "1500/1500 [==============================] - 3s 2ms/step - loss: 0.0041 - accuracy: 0.9992 - val_loss: 0.3388 - val_accuracy: 0.9703\n",
            "Epoch 92/100\n",
            "1500/1500 [==============================] - 4s 2ms/step - loss: 0.0058 - accuracy: 0.9982 - val_loss: 0.3132 - val_accuracy: 0.9747\n",
            "Epoch 93/100\n",
            "1500/1500 [==============================] - 3s 2ms/step - loss: 0.0042 - accuracy: 0.9987 - val_loss: 0.3379 - val_accuracy: 0.9725\n",
            "Epoch 94/100\n",
            "1500/1500 [==============================] - 4s 2ms/step - loss: 0.0045 - accuracy: 0.9988 - val_loss: 0.3494 - val_accuracy: 0.9689\n",
            "Epoch 95/100\n",
            "1500/1500 [==============================] - 3s 2ms/step - loss: 0.0049 - accuracy: 0.9986 - val_loss: 0.3111 - val_accuracy: 0.9748\n",
            "Epoch 96/100\n",
            "1500/1500 [==============================] - 4s 2ms/step - loss: 0.0065 - accuracy: 0.9983 - val_loss: 0.3074 - val_accuracy: 0.9737\n",
            "Epoch 97/100\n",
            "1500/1500 [==============================] - 3s 2ms/step - loss: 0.0050 - accuracy: 0.9986 - val_loss: 0.3287 - val_accuracy: 0.9730\n",
            "Epoch 98/100\n",
            "1500/1500 [==============================] - 3s 2ms/step - loss: 0.0052 - accuracy: 0.9990 - val_loss: 0.3060 - val_accuracy: 0.9733\n",
            "Epoch 99/100\n",
            "1500/1500 [==============================] - 3s 2ms/step - loss: 0.0038 - accuracy: 0.9990 - val_loss: 0.3317 - val_accuracy: 0.9735\n",
            "Epoch 100/100\n",
            "1500/1500 [==============================] - 4s 2ms/step - loss: 0.0055 - accuracy: 0.9985 - val_loss: 0.3091 - val_accuracy: 0.9741\n"
          ],
          "name": "stdout"
        }
      ]
    },
    {
      "cell_type": "markdown",
      "metadata": {
        "id": "FT4_DoFRUznI"
      },
      "source": [
        "학습 시 매 에포크에 해당하는 훈련셋과 검증셋에 대한 손실값과 평가 메트릭 수치를 확인할 수 있습니다. 이를 시각화시키면 오버피팅 여부를 한 눈에 확인할 수 있습니다."
      ]
    },
    {
      "cell_type": "code",
      "metadata": {
        "colab": {
          "base_uri": "https://localhost:8080/",
          "height": 279
        },
        "id": "ceNs9lckwfbd",
        "outputId": "c57745c1-6b03-4dc2-88d9-24ceb26d8563"
      },
      "source": [
        "fig, loss_ax = plt.subplots()\n",
        "\n",
        "acc_ax = loss_ax.twinx()\n",
        "\n",
        "loss_ax.plot(hist.history['loss'], 'y', label='train loss')\n",
        "loss_ax.plot(hist.history['val_loss'], 'r', label='val loss')\n",
        "\n",
        "acc_ax.plot(hist.history['accuracy'], 'b', label='train acc')\n",
        "acc_ax.plot(hist.history['val_accuracy'], 'g', label='val acc')\n",
        "\n",
        "loss_ax.set_xlabel('epoch')\n",
        "loss_ax.set_ylabel('loss')\n",
        "acc_ax.set_ylabel('accuray')\n",
        "\n",
        "loss_ax.legend(loc='upper left')\n",
        "acc_ax.legend(loc='lower left')\n",
        "\n",
        "plt.show()"
      ],
      "execution_count": 10,
      "outputs": [
        {
          "output_type": "display_data",
          "data": {
            "image/png": "[encoded data removed]",
            "text/plain": [
              "<Figure size 432x288 with 2 Axes>"
            ]
          },
          "metadata": {
            "tags": [],
            "needs_background": "light"
          }
        }
      ]
    },
    {
      "cell_type": "markdown",
      "metadata": {
        "id": "jCAQ09u9W09V"
      },
      "source": [
        "오버피팅이 10 에포크 이전에 발생했더라도 100 에포크까지 학습을 시켰으므로 현재 모델은 오버피팅이 되어 있는 상태입니다. 오버피팅이 되지 않은 모델을 확보하기 위해는 아래 세 가지 방법을 사용할 수 있습니다. \n",
        "\n",
        "1. 오버피팅이 되는 에포크를 확인하였다면, 오버피팅 전의 에포크 만큼 모델을 학습시킵니다.\n",
        "2. 콜백함수를 사용하여, 오버피팅이 감지되면 조기 중단을 시키도록 합니다.\n",
        "3. 콜백함수를 사용하여, 매 에포크마다 검증셋의 손실값을 체크한 후, 이전 손실값보다 낮은 경우 모델을 파일로 저장합니다. 즉 학습 종료가 되면, 파일에 저장된 모델은 손실값이 가장 낮을 때의 가중치를 가지고 있습니다.\n",
        "\n",
        "1번 방법은 두 번 학습을 시켜야하고, 2번 방법은 더 학습이 가능했음에도 설정된 오버피팅 감지 조건에 의해 조기 중단이 될 수도 있으므로, 이후 실습에서는 주로 3번 방법을 사용하도록 하겠습니다.\n",
        "\n",
        "모델 정의부터 컴파일, 콜백함수 정의, 모델 학습까지의 코드는 아래와 같습니다. 다음부터는 두 번 학습할 필요없이 아래 코드로 한 번만 수행합니다."
      ]
    },
    {
      "cell_type": "code",
      "metadata": {
        "colab": {
          "base_uri": "https://localhost:8080/"
        },
        "id": "upKgRxiNT5MQ",
        "outputId": "b5262e9e-037b-4b25-d5cf-43e612dcde36"
      },
      "source": [
        "model = Sequential([\n",
        "    Dense(64, input_dim=28*28, activation='relu'), \n",
        "    Dense(32, activation='relu'), \n",
        "    Dense(10, activation='softmax')\n",
        "])\n",
        "\n",
        "model.compile(loss='categorical_crossentropy', optimizer='adam', metrics=['accuracy'])\n",
        "\n",
        "checkpoint_callback = ModelCheckpoint(\"best_model.h5\", \n",
        "                                      save_best_only=True, \n",
        "                                      monitor=\"val_loss\")\n",
        "\n",
        "hist = model.fit(x_train, y_train, \n",
        "                 validation_split=0.2, \n",
        "                 batch_size=32,\n",
        "                 epochs=100,  \n",
        "                 callbacks=[checkpoint_callback])"
      ],
      "execution_count": 11,
      "outputs": [
        {
          "output_type": "stream",
          "text": [
            "Epoch 1/100\n",
            "1500/1500 [==============================] - 4s 2ms/step - loss: 0.3345 - accuracy: 0.9014 - val_loss: 0.1850 - val_accuracy: 0.9445\n",
            "Epoch 2/100\n",
            "1500/1500 [==============================] - 4s 2ms/step - loss: 0.1502 - accuracy: 0.9551 - val_loss: 0.1348 - val_accuracy: 0.9582\n",
            "Epoch 3/100\n",
            "1500/1500 [==============================] - 4s 2ms/step - loss: 0.1117 - accuracy: 0.9661 - val_loss: 0.1110 - val_accuracy: 0.9653\n",
            "Epoch 4/100\n",
            "1500/1500 [==============================] - 4s 2ms/step - loss: 0.0877 - accuracy: 0.9731 - val_loss: 0.1021 - val_accuracy: 0.9682\n",
            "Epoch 5/100\n",
            "1500/1500 [==============================] - 4s 2ms/step - loss: 0.0726 - accuracy: 0.9771 - val_loss: 0.1068 - val_accuracy: 0.9678\n",
            "Epoch 6/100\n",
            "1500/1500 [==============================] - 3s 2ms/step - loss: 0.0622 - accuracy: 0.9807 - val_loss: 0.0999 - val_accuracy: 0.9704\n",
            "Epoch 7/100\n",
            "1500/1500 [==============================] - 3s 2ms/step - loss: 0.0507 - accuracy: 0.9844 - val_loss: 0.1077 - val_accuracy: 0.9700\n",
            "Epoch 8/100\n",
            "1500/1500 [==============================] - 4s 2ms/step - loss: 0.0456 - accuracy: 0.9854 - val_loss: 0.0991 - val_accuracy: 0.9722\n",
            "Epoch 9/100\n",
            "1500/1500 [==============================] - 3s 2ms/step - loss: 0.0385 - accuracy: 0.9876 - val_loss: 0.0999 - val_accuracy: 0.9745\n",
            "Epoch 10/100\n",
            "1500/1500 [==============================] - 3s 2ms/step - loss: 0.0347 - accuracy: 0.9886 - val_loss: 0.1261 - val_accuracy: 0.9682\n",
            "Epoch 11/100\n",
            "1500/1500 [==============================] - 4s 2ms/step - loss: 0.0294 - accuracy: 0.9902 - val_loss: 0.1230 - val_accuracy: 0.9695\n",
            "Epoch 12/100\n",
            "1500/1500 [==============================] - 3s 2ms/step - loss: 0.0257 - accuracy: 0.9914 - val_loss: 0.1260 - val_accuracy: 0.9703\n",
            "Epoch 13/100\n",
            "1500/1500 [==============================] - 4s 2ms/step - loss: 0.0231 - accuracy: 0.9922 - val_loss: 0.1171 - val_accuracy: 0.9727\n",
            "Epoch 14/100\n",
            "1500/1500 [==============================] - 4s 2ms/step - loss: 0.0204 - accuracy: 0.9929 - val_loss: 0.1317 - val_accuracy: 0.9704\n",
            "Epoch 15/100\n",
            "1500/1500 [==============================] - 4s 2ms/step - loss: 0.0198 - accuracy: 0.9934 - val_loss: 0.1386 - val_accuracy: 0.9703\n",
            "Epoch 16/100\n",
            "1500/1500 [==============================] - 4s 2ms/step - loss: 0.0176 - accuracy: 0.9940 - val_loss: 0.1333 - val_accuracy: 0.9718\n",
            "Epoch 17/100\n",
            "1500/1500 [==============================] - 4s 2ms/step - loss: 0.0154 - accuracy: 0.9950 - val_loss: 0.1383 - val_accuracy: 0.9716\n",
            "Epoch 18/100\n",
            "1500/1500 [==============================] - 4s 2ms/step - loss: 0.0144 - accuracy: 0.9949 - val_loss: 0.1370 - val_accuracy: 0.9730\n",
            "Epoch 19/100\n",
            "1500/1500 [==============================] - 4s 2ms/step - loss: 0.0158 - accuracy: 0.9948 - val_loss: 0.1340 - val_accuracy: 0.9728\n",
            "Epoch 20/100\n",
            "1500/1500 [==============================] - 3s 2ms/step - loss: 0.0145 - accuracy: 0.9956 - val_loss: 0.1516 - val_accuracy: 0.9718\n",
            "Epoch 21/100\n",
            "1500/1500 [==============================] - 4s 2ms/step - loss: 0.0114 - accuracy: 0.9962 - val_loss: 0.1634 - val_accuracy: 0.9698\n",
            "Epoch 22/100\n",
            "1500/1500 [==============================] - 3s 2ms/step - loss: 0.0124 - accuracy: 0.9957 - val_loss: 0.1491 - val_accuracy: 0.9719\n",
            "Epoch 23/100\n",
            "1500/1500 [==============================] - 3s 2ms/step - loss: 0.0113 - accuracy: 0.9961 - val_loss: 0.1670 - val_accuracy: 0.9707\n",
            "Epoch 24/100\n",
            "1500/1500 [==============================] - 3s 2ms/step - loss: 0.0115 - accuracy: 0.9960 - val_loss: 0.1603 - val_accuracy: 0.9710\n",
            "Epoch 25/100\n",
            "1500/1500 [==============================] - 3s 2ms/step - loss: 0.0118 - accuracy: 0.9958 - val_loss: 0.1732 - val_accuracy: 0.9695\n",
            "Epoch 26/100\n",
            "1500/1500 [==============================] - 4s 2ms/step - loss: 0.0099 - accuracy: 0.9967 - val_loss: 0.1670 - val_accuracy: 0.9722\n",
            "Epoch 27/100\n",
            "1500/1500 [==============================] - 4s 2ms/step - loss: 0.0099 - accuracy: 0.9966 - val_loss: 0.1630 - val_accuracy: 0.9740\n",
            "Epoch 28/100\n",
            "1500/1500 [==============================] - 4s 2ms/step - loss: 0.0084 - accuracy: 0.9973 - val_loss: 0.1921 - val_accuracy: 0.9705\n",
            "Epoch 29/100\n",
            "1500/1500 [==============================] - 3s 2ms/step - loss: 0.0083 - accuracy: 0.9971 - val_loss: 0.1744 - val_accuracy: 0.9732\n",
            "Epoch 30/100\n",
            "1500/1500 [==============================] - 4s 2ms/step - loss: 0.0095 - accuracy: 0.9967 - val_loss: 0.1872 - val_accuracy: 0.9725\n",
            "Epoch 31/100\n",
            "1500/1500 [==============================] - 4s 2ms/step - loss: 0.0111 - accuracy: 0.9968 - val_loss: 0.2022 - val_accuracy: 0.9708\n",
            "Epoch 32/100\n",
            "1500/1500 [==============================] - 4s 2ms/step - loss: 0.0073 - accuracy: 0.9974 - val_loss: 0.1791 - val_accuracy: 0.9739\n",
            "Epoch 33/100\n",
            "1500/1500 [==============================] - 4s 2ms/step - loss: 0.0082 - accuracy: 0.9975 - val_loss: 0.2330 - val_accuracy: 0.9669\n",
            "Epoch 34/100\n",
            "1500/1500 [==============================] - 4s 2ms/step - loss: 0.0085 - accuracy: 0.9971 - val_loss: 0.2015 - val_accuracy: 0.9711\n",
            "Epoch 35/100\n",
            "1500/1500 [==============================] - 4s 3ms/step - loss: 0.0074 - accuracy: 0.9976 - val_loss: 0.2052 - val_accuracy: 0.9737\n",
            "Epoch 36/100\n",
            "1500/1500 [==============================] - 4s 3ms/step - loss: 0.0085 - accuracy: 0.9974 - val_loss: 0.2002 - val_accuracy: 0.9732\n",
            "Epoch 37/100\n",
            "1500/1500 [==============================] - 4s 2ms/step - loss: 0.0103 - accuracy: 0.9967 - val_loss: 0.2203 - val_accuracy: 0.9695\n",
            "Epoch 38/100\n",
            "1500/1500 [==============================] - 3s 2ms/step - loss: 0.0080 - accuracy: 0.9975 - val_loss: 0.2077 - val_accuracy: 0.9714\n",
            "Epoch 39/100\n",
            "1500/1500 [==============================] - 3s 2ms/step - loss: 0.0072 - accuracy: 0.9976 - val_loss: 0.1954 - val_accuracy: 0.9735\n",
            "Epoch 40/100\n",
            "1500/1500 [==============================] - 4s 2ms/step - loss: 0.0089 - accuracy: 0.9969 - val_loss: 0.1973 - val_accuracy: 0.9740\n",
            "Epoch 41/100\n",
            "1500/1500 [==============================] - 4s 2ms/step - loss: 0.0067 - accuracy: 0.9979 - val_loss: 0.2285 - val_accuracy: 0.9693\n",
            "Epoch 42/100\n",
            "1500/1500 [==============================] - 3s 2ms/step - loss: 0.0074 - accuracy: 0.9975 - val_loss: 0.2249 - val_accuracy: 0.9722\n",
            "Epoch 43/100\n",
            "1500/1500 [==============================] - 3s 2ms/step - loss: 0.0074 - accuracy: 0.9976 - val_loss: 0.2126 - val_accuracy: 0.9728\n",
            "Epoch 44/100\n",
            "1500/1500 [==============================] - 4s 2ms/step - loss: 0.0074 - accuracy: 0.9976 - val_loss: 0.2110 - val_accuracy: 0.9727\n",
            "Epoch 45/100\n",
            "1500/1500 [==============================] - 4s 2ms/step - loss: 0.0049 - accuracy: 0.9983 - val_loss: 0.2350 - val_accuracy: 0.9690\n",
            "Epoch 46/100\n",
            "1500/1500 [==============================] - 3s 2ms/step - loss: 0.0109 - accuracy: 0.9969 - val_loss: 0.2305 - val_accuracy: 0.9700\n",
            "Epoch 47/100\n",
            "1500/1500 [==============================] - 3s 2ms/step - loss: 0.0067 - accuracy: 0.9979 - val_loss: 0.2175 - val_accuracy: 0.9726\n",
            "Epoch 48/100\n",
            "1500/1500 [==============================] - 3s 2ms/step - loss: 0.0061 - accuracy: 0.9982 - val_loss: 0.2242 - val_accuracy: 0.9721\n",
            "Epoch 49/100\n",
            "1500/1500 [==============================] - 4s 2ms/step - loss: 0.0062 - accuracy: 0.9979 - val_loss: 0.2352 - val_accuracy: 0.9703\n",
            "Epoch 50/100\n",
            "1500/1500 [==============================] - 4s 2ms/step - loss: 0.0058 - accuracy: 0.9981 - val_loss: 0.2367 - val_accuracy: 0.9733\n",
            "Epoch 51/100\n",
            "1500/1500 [==============================] - 4s 2ms/step - loss: 0.0074 - accuracy: 0.9976 - val_loss: 0.2445 - val_accuracy: 0.9712\n",
            "Epoch 52/100\n",
            "1500/1500 [==============================] - 4s 2ms/step - loss: 0.0063 - accuracy: 0.9980 - val_loss: 0.2443 - val_accuracy: 0.9709\n",
            "Epoch 53/100\n",
            "1500/1500 [==============================] - 4s 2ms/step - loss: 0.0042 - accuracy: 0.9985 - val_loss: 0.2656 - val_accuracy: 0.9708\n",
            "Epoch 54/100\n",
            "1500/1500 [==============================] - 4s 2ms/step - loss: 0.0066 - accuracy: 0.9979 - val_loss: 0.2392 - val_accuracy: 0.9729\n",
            "Epoch 55/100\n",
            "1500/1500 [==============================] - 4s 2ms/step - loss: 0.0071 - accuracy: 0.9977 - val_loss: 0.2338 - val_accuracy: 0.9730\n",
            "Epoch 56/100\n",
            "1500/1500 [==============================] - 4s 2ms/step - loss: 0.0070 - accuracy: 0.9979 - val_loss: 0.2442 - val_accuracy: 0.9728\n",
            "Epoch 57/100\n",
            "1500/1500 [==============================] - 3s 2ms/step - loss: 0.0044 - accuracy: 0.9986 - val_loss: 0.2832 - val_accuracy: 0.9701\n",
            "Epoch 58/100\n",
            "1500/1500 [==============================] - 3s 2ms/step - loss: 0.0081 - accuracy: 0.9978 - val_loss: 0.2452 - val_accuracy: 0.9727\n",
            "Epoch 59/100\n",
            "1500/1500 [==============================] - 4s 2ms/step - loss: 0.0054 - accuracy: 0.9980 - val_loss: 0.2779 - val_accuracy: 0.9712\n",
            "Epoch 60/100\n",
            "1500/1500 [==============================] - 4s 2ms/step - loss: 0.0084 - accuracy: 0.9971 - val_loss: 0.2732 - val_accuracy: 0.9705\n",
            "Epoch 61/100\n",
            "1500/1500 [==============================] - 4s 2ms/step - loss: 0.0040 - accuracy: 0.9987 - val_loss: 0.2590 - val_accuracy: 0.9730\n",
            "Epoch 62/100\n",
            "1500/1500 [==============================] - 4s 3ms/step - loss: 0.0056 - accuracy: 0.9983 - val_loss: 0.2721 - val_accuracy: 0.9718\n",
            "Epoch 63/100\n",
            "1500/1500 [==============================] - 4s 2ms/step - loss: 0.0046 - accuracy: 0.9984 - val_loss: 0.2612 - val_accuracy: 0.9727\n",
            "Epoch 64/100\n",
            "1500/1500 [==============================] - 4s 3ms/step - loss: 0.0057 - accuracy: 0.9983 - val_loss: 0.2702 - val_accuracy: 0.9727\n",
            "Epoch 65/100\n",
            "1500/1500 [==============================] - 4s 2ms/step - loss: 0.0053 - accuracy: 0.9983 - val_loss: 0.2731 - val_accuracy: 0.9738\n",
            "Epoch 66/100\n",
            "1500/1500 [==============================] - 4s 2ms/step - loss: 0.0061 - accuracy: 0.9982 - val_loss: 0.2800 - val_accuracy: 0.9703\n",
            "Epoch 67/100\n",
            "1500/1500 [==============================] - 4s 2ms/step - loss: 0.0057 - accuracy: 0.9983 - val_loss: 0.2767 - val_accuracy: 0.9718\n",
            "Epoch 68/100\n",
            "1500/1500 [==============================] - 4s 2ms/step - loss: 0.0035 - accuracy: 0.9989 - val_loss: 0.2441 - val_accuracy: 0.9753\n",
            "Epoch 69/100\n",
            "1500/1500 [==============================] - 4s 2ms/step - loss: 2.5590e-04 - accuracy: 1.0000 - val_loss: 0.2463 - val_accuracy: 0.9759\n",
            "Epoch 70/100\n",
            "1500/1500 [==============================] - 3s 2ms/step - loss: 0.0129 - accuracy: 0.9965 - val_loss: 0.2619 - val_accuracy: 0.9732\n",
            "Epoch 71/100\n",
            "1500/1500 [==============================] - 3s 2ms/step - loss: 0.0039 - accuracy: 0.9990 - val_loss: 0.2684 - val_accuracy: 0.9753\n",
            "Epoch 72/100\n",
            "1500/1500 [==============================] - 4s 2ms/step - loss: 0.0047 - accuracy: 0.9985 - val_loss: 0.2638 - val_accuracy: 0.9742\n",
            "Epoch 73/100\n",
            "1500/1500 [==============================] - 4s 2ms/step - loss: 0.0072 - accuracy: 0.9979 - val_loss: 0.3147 - val_accuracy: 0.9680\n",
            "Epoch 74/100\n",
            "1500/1500 [==============================] - 4s 2ms/step - loss: 0.0067 - accuracy: 0.9980 - val_loss: 0.3229 - val_accuracy: 0.9700\n",
            "Epoch 75/100\n",
            "1500/1500 [==============================] - 4s 2ms/step - loss: 0.0040 - accuracy: 0.9988 - val_loss: 0.2990 - val_accuracy: 0.9725\n",
            "Epoch 76/100\n",
            "1500/1500 [==============================] - 4s 2ms/step - loss: 0.0035 - accuracy: 0.9991 - val_loss: 0.2828 - val_accuracy: 0.9747\n",
            "Epoch 77/100\n",
            "1500/1500 [==============================] - 4s 3ms/step - loss: 0.0081 - accuracy: 0.9974 - val_loss: 0.2747 - val_accuracy: 0.9742\n",
            "Epoch 78/100\n",
            "1500/1500 [==============================] - 4s 2ms/step - loss: 0.0045 - accuracy: 0.9985 - val_loss: 0.2973 - val_accuracy: 0.9726\n",
            "Epoch 79/100\n",
            "1500/1500 [==============================] - 4s 3ms/step - loss: 0.0064 - accuracy: 0.9984 - val_loss: 0.2935 - val_accuracy: 0.9730\n",
            "Epoch 80/100\n",
            "1500/1500 [==============================] - 4s 2ms/step - loss: 0.0046 - accuracy: 0.9986 - val_loss: 0.2886 - val_accuracy: 0.9739\n",
            "Epoch 81/100\n",
            "1500/1500 [==============================] - 4s 2ms/step - loss: 0.0064 - accuracy: 0.9981 - val_loss: 0.3117 - val_accuracy: 0.9738\n",
            "Epoch 82/100\n",
            "1500/1500 [==============================] - 4s 2ms/step - loss: 0.0064 - accuracy: 0.9983 - val_loss: 0.2897 - val_accuracy: 0.9735\n",
            "Epoch 83/100\n",
            "1500/1500 [==============================] - 4s 2ms/step - loss: 0.0046 - accuracy: 0.9985 - val_loss: 0.2948 - val_accuracy: 0.9734\n",
            "Epoch 84/100\n",
            "1500/1500 [==============================] - 4s 2ms/step - loss: 0.0033 - accuracy: 0.9991 - val_loss: 0.3012 - val_accuracy: 0.9722\n",
            "Epoch 85/100\n",
            "1500/1500 [==============================] - 3s 2ms/step - loss: 0.0068 - accuracy: 0.9979 - val_loss: 0.2928 - val_accuracy: 0.9722\n",
            "Epoch 86/100\n",
            "1500/1500 [==============================] - 4s 2ms/step - loss: 0.0031 - accuracy: 0.9991 - val_loss: 0.2913 - val_accuracy: 0.9751\n",
            "Epoch 87/100\n",
            "1500/1500 [==============================] - 4s 2ms/step - loss: 0.0069 - accuracy: 0.9979 - val_loss: 0.3409 - val_accuracy: 0.9723\n",
            "Epoch 88/100\n",
            "1500/1500 [==============================] - 4s 2ms/step - loss: 0.0063 - accuracy: 0.9985 - val_loss: 0.2899 - val_accuracy: 0.9743\n",
            "Epoch 89/100\n",
            "1500/1500 [==============================] - 4s 2ms/step - loss: 0.0030 - accuracy: 0.9990 - val_loss: 0.3195 - val_accuracy: 0.9737\n",
            "Epoch 90/100\n",
            "1500/1500 [==============================] - 4s 2ms/step - loss: 0.0080 - accuracy: 0.9979 - val_loss: 0.3151 - val_accuracy: 0.9734\n",
            "Epoch 91/100\n",
            "1500/1500 [==============================] - 4s 2ms/step - loss: 0.0035 - accuracy: 0.9992 - val_loss: 0.3518 - val_accuracy: 0.9698\n",
            "Epoch 92/100\n",
            "1500/1500 [==============================] - 4s 2ms/step - loss: 0.0058 - accuracy: 0.9986 - val_loss: 0.3335 - val_accuracy: 0.9743\n",
            "Epoch 93/100\n",
            "1500/1500 [==============================] - 4s 2ms/step - loss: 0.0066 - accuracy: 0.9981 - val_loss: 0.3477 - val_accuracy: 0.9704\n",
            "Epoch 94/100\n",
            "1500/1500 [==============================] - 4s 2ms/step - loss: 0.0036 - accuracy: 0.9990 - val_loss: 0.3170 - val_accuracy: 0.9722\n",
            "Epoch 95/100\n",
            "1500/1500 [==============================] - 4s 2ms/step - loss: 0.0067 - accuracy: 0.9981 - val_loss: 0.3200 - val_accuracy: 0.9714\n",
            "Epoch 96/100\n",
            "1500/1500 [==============================] - 4s 3ms/step - loss: 0.0042 - accuracy: 0.9991 - val_loss: 0.3185 - val_accuracy: 0.9730\n",
            "Epoch 97/100\n",
            "1500/1500 [==============================] - 4s 2ms/step - loss: 0.0046 - accuracy: 0.9989 - val_loss: 0.3258 - val_accuracy: 0.9737\n",
            "Epoch 98/100\n",
            "1500/1500 [==============================] - 4s 2ms/step - loss: 0.0044 - accuracy: 0.9986 - val_loss: 0.3357 - val_accuracy: 0.9732\n",
            "Epoch 99/100\n",
            "1500/1500 [==============================] - 4s 3ms/step - loss: 0.0043 - accuracy: 0.9988 - val_loss: 0.3236 - val_accuracy: 0.9741\n",
            "Epoch 100/100\n",
            "1500/1500 [==============================] - 4s 2ms/step - loss: 0.0037 - accuracy: 0.9989 - val_loss: 0.3266 - val_accuracy: 0.9707\n"
          ],
          "name": "stdout"
        }
      ]
    },
    {
      "cell_type": "markdown",
      "metadata": {
        "id": "E2pcI4oMn7Ux"
      },
      "source": [
        "이로서 현재 학습 과정 중 가장 낮은 검증셋의 손실값을 가진 모델이 \"best_model.h5\" 파일로 저장되었습니다."
      ]
    },
    {
      "cell_type": "markdown",
      "metadata": {
        "id": "2FGSGDMLn7Ux"
      },
      "source": [
        "파일로 저장된 모델을 로딩하여 시험셋으로 최종 평가를 수행합니다."
      ]
    },
    {
      "cell_type": "code",
      "metadata": {
        "colab": {
          "base_uri": "https://localhost:8080/"
        },
        "id": "7dR4v-GuwCuG",
        "outputId": "0b0eff8a-57b4-4e3e-abd3-200346865b1b"
      },
      "source": [
        "model = load_model(\"best_model.h5\")\n",
        "\n",
        "test_loss, test_acc = model.evaluate(x_test, y_test)\n",
        "\n",
        "print(\"Test accuracy\", test_acc)\n",
        "print(\"Test loss\", test_loss)"
      ],
      "execution_count": 12,
      "outputs": [
        {
          "output_type": "stream",
          "text": [
            "313/313 [==============================] - 1s 2ms/step - loss: 0.0973 - accuracy: 0.9735\n",
            "Test accuracy 0.9735000133514404\n",
            "Test loss 0.09731835126876831\n"
          ],
          "name": "stdout"
        }
      ]
    },
    {
      "cell_type": "markdown",
      "metadata": {
        "id": "gPwlKPzqZmOu"
      },
      "source": [
        "또한 시험셋으로 테스트한 결과를 제출하기 위해 모델 결과 파일을 저장합니다. 출력이 10개 클래스에 해당하는 벡터이므로, 분류한 클래스 정보를 얻기 위해 가장 높은 값을 가진 인덱스 값을 가지고 옵니다. 이 인덱스가 클래스를 의미하며, 이 값을 파일로 저장합니다."
      ]
    },
    {
      "cell_type": "code",
      "metadata": {
        "id": "REvi-WpIZuKx"
      },
      "source": [
        "y_pred = model.predict(x_test)\n",
        "y_pred = y_pred.argmax(axis=-1)\n",
        "np.savetxt('y_pred.csv', y_pred, fmt='%d')"
      ],
      "execution_count": 13,
      "outputs": []
    }
  ]
}